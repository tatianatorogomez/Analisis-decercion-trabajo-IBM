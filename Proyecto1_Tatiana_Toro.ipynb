{
  "nbformat": 4,
  "nbformat_minor": 0,
  "metadata": {
    "colab": {
      "provenance": [],
      "collapsed_sections": [],
      "toc_visible": true,
      "authorship_tag": "ABX9TyMOJ2xnwysyCyr1A91mR+Jz",
      "include_colab_link": true
    },
    "kernelspec": {
      "name": "python3",
      "display_name": "Python 3"
    },
    "language_info": {
      "name": "python"
    }
  },
  "cells": [
    {
      "cell_type": "markdown",
      "metadata": {
        "id": "view-in-github",
        "colab_type": "text"
      },
      "source": [
        "<a href=\"https://colab.research.google.com/github/tatianatorogomez/Analisis-decercion-trabajo-IBM/blob/main/Proyecto1_Tatiana_Toro.ipynb\" target=\"_parent\"><img src=\"https://colab.research.google.com/assets/colab-badge.svg\" alt=\"Open In Colab\"/></a>"
      ]
    },
    {
      "cell_type": "markdown",
      "metadata": {
        "id": "i3DvEHv3XHC-"
      },
      "source": [
        "###**DESERCIÓN EMPLEADOS IBM**\n",
        "*Por: Tatiana Toro Gómez*"
      ]
    },
    {
      "cell_type": "markdown",
      "metadata": {
        "id": "oqR7EIjPANvj"
      },
      "source": [
        "###**Descripción**\n",
        "---\n",
        "##*Descripción general*\n",
        "En el siguiente archivo se desarrollará el análisis y visualización del conjunto de datos \"*Desgaste y rendimineto de empleados de IBM HR Analytics*\" el cual fue tomado de la plataforma Kaggle, con el fin de investigar principalmente los factores que conducen a la deserción en esta empresa, este dataset contiene 35 atributos y 1470 datos de personas. \n",
        "En la tabla hay atributos métricos como salario mensual, cantidad de tiempo trabajando en la empresa, y tambien atributos dicotómicos, es decir que estan categorizados por número, como campo de educación, genero. Igualmente cada atributo se explica detalladamente más adelante. \n",
        "\n",
        "El análisis de este tema podria servir para determinar factores de deserción en empleos no necesariamente de IBM, es decir teniendo en cuenta empresas tecnológicas, bajo algunas condiciones similares se podrian establecer los motivos de desgaste de empleados. \n",
        "\n",
        "##*Problema*\n",
        "\n",
        "La deserción de empleados es un tema importante para las empresas y principalmente el desconocimineto de los motivos por los cuales esto ocurre, ya sean por factores de la empresa o externos de los empleados. IBM una empresa tecnológica desarrollo este dataset con el fin de conocer la razón principal, esto con el fin de que en el futuro se pueda generar un modelo que prediga que factores deben modificar tanto en la empresa como en la seleccion de personal para tener la deserción en los trabajadores. \n",
        "\n",
        "##*Objetivos*\n",
        "\n",
        "\n",
        "*   Identificar los principales fatores por los cuales los empleados se van de la empresa.\n",
        "*   Identificar si existen condiciones diferentes en cuanto al genero en la empresa. \n",
        "*   Generar un modelo que a partir de factores como la ganancia, o el tiempo que lleva trabajndo pueda desertar de la empresa.\n",
        "\n",
        "\n",
        "##*Hipótesis*\n",
        "\n",
        "*   Se espera encontrar etiquetas que tengan relación con respecto a la decersión \n",
        "*   Se espera tener alguna diferencia en condiciones según el genero\n",
        "*   Se espera tener relación entre la ganancia mensual de cada empleado y su puesto de trabajo o su nivel de trabajo. \n",
        "\n",
        "\n"
      ]
    },
    {
      "cell_type": "markdown",
      "metadata": {
        "id": "q7sGp8lXlDBT"
      },
      "source": [
        "###**Importar librerias y Dataset**\n",
        "---\n",
        "A continuación se importarán las librerias necesarias para ejecutar el proyecto, igualmente se exporta el csv llamado **`dataibm.csv`**. "
      ]
    },
    {
      "cell_type": "code",
      "metadata": {
        "id": "UmMhCupQFyV-"
      },
      "source": [
        "# Importar librerías\n",
        "import pandas as pd\n",
        "import numpy as np\n",
        "import scipy\n",
        "from scipy import stats\n",
        "import statsmodels.api as sm\n",
        "import matplotlib.pyplot as plt\n",
        "import matplotlib as mpl\n",
        "import seaborn as sns\n",
        "from matplotlib import pyplot\n",
        "from statsmodels.graphics.gofplots import qqplot\n",
        "from scipy.stats import shapiro\n",
        "import scipy.stats as ss\n",
        "%matplotlib inline\n",
        "plt.rcParams['figure.dpi'] = 110   "
      ],
      "execution_count": null,
      "outputs": []
    },
    {
      "cell_type": "code",
      "metadata": {
        "colab": {
          "base_uri": "https://localhost:8080/"
        },
        "id": "7FdQnvFAF20U",
        "outputId": "11d86e9c-bc21-4da9-d73b-0a736fa9d380"
      },
      "source": [
        "!python --version\n",
        "print('Pandas', pd.__version__)\n",
        "print('NumPy', np.__version__)\n",
        "print('SciPy', scipy.__version__)\n",
        "print('statsmodels', sm.__version__)"
      ],
      "execution_count": null,
      "outputs": [
        {
          "output_type": "stream",
          "text": [
            "Python 3.7.10\n",
            "Pandas 1.1.5\n",
            "NumPy 1.19.5\n",
            "SciPy 1.4.1\n",
            "statsmodels 0.10.2\n"
          ],
          "name": "stdout"
        }
      ]
    },
    {
      "cell_type": "code",
      "metadata": {
        "id": "If8Gjq3xEPsm"
      },
      "source": [
        "# Importar datos\n",
        "ibmdata = pd.read_csv('dataibm.csv')\n"
      ],
      "execution_count": null,
      "outputs": []
    },
    {
      "cell_type": "markdown",
      "metadata": {
        "id": "0BfkY1ktl26b"
      },
      "source": [
        "###**Descripción del Dataset**\n",
        "---\n",
        "A continuación se realizará una descripción del dataset en general, explicando tamaño de la matriz, y la especificación de las etiquetas de cada columna.\n",
        "\n",
        "| Variable |Asignación| Definición\t| \n",
        "| --- | --- | --- |\n",
        "| Age   |Edad| \tValor numerico  |\n",
        "| Attrition |Desgaste |Empleado que abandona la empresa (0 = no, 1 = sí)|\n",
        "| Business travel |viajes de negocio ||\n",
        "| dailyrate  | tarifa diaria  | Valor numérico - Nivel salarial|\n",
        "| depatment  | departamento  | (1 = RRHH, 2 = I + D, 3 = Ventas) |\n",
        "| distance from home | distancia de casa  |Valor numérico: LA DISTANCIA DEL TRABAJO A LA CASA |\n",
        "| education | educacion | Valor numérico |\n",
        "| education field | campo de educacion  |(1 = RRHH, 2 = CIENCIAS DE LA VIDA, 3 = MARKETING, 4 = CIENCIAS MÉDICAS, 5 = OTROS, 6 = TÉCNICO) |\n",
        "| employee count  | numero de empleados | Valor numérico |\n",
        "| enviroment satisfaction |satisfacción ambiental | Valor numérico  |\n",
        "|gender|genero  | (1 = FEMENINO, 2 = MASCULINO)|\n",
        "| hourly rate | tarifa por hora | Valor numérico - SALARIO POR HORA |\n",
        "|job involvement | participacion laboral  | Valor numérico - PARTICIPACIÓN EN EL TRABAJO |\n",
        "|job level | nivel de trabajo  | Valor numérico |\n",
        "| job role  | puesto de trabajo  |(1 = HC REP, 2 = HR, 3 = TÉCNICO DE LABORATORIO, 4 = GERENTE, 5 = DIRECTOR GERENTE, 6 = DIRECTOR DE INVESTIGACIÓN, 7 = CIENTÍFICO DE INVESTIGACIÓN, 8 = EJECUTIVO DE VENTAS, 9 = REPRESENTANTE DE VENTAS) |\n",
        "| job satisfaction  | satisfacción laboral  | Valor numérico|\n",
        "| marital status  | estado civil  | (1 = DIVORCIADO, 2 = CASADO, 3 = SOLTERO) |\n",
        "| monthly income | ingreso mensual | Valor numérico |\n",
        "| monthly rate  | tasa mensual  | Valor numérico |\n",
        "| number companies workwd  | numero de empresas trabajan  | Valor numérico |\n",
        "| over 18  |mayores de 18  | (1 = SÍ, 2 = NO) |\n",
        "| over time | tiempo extraordinario | (1 = NO, 2 = SÍ)|\n",
        "| percent salary hike | porcentraje de aumento salarial  | Valor numérico - PORCENTAJE DE AUMENTO DEL SALARIO.|\n",
        "| performance rating  | clasificacion de rendimineto  | Valor numéric |\n",
        "| relationshp faction  | faccion de relaciciones | Valor numéric |\n",
        "| standard hours |horas estandar  |Valor numéric |\n",
        "| stock option level  | nivel de opciones sobre acciones  | Valor numérico - OPCIONES DE STOCK.Cuántas acciones de la empresa posee de esta empresa |\n",
        "| total working years  | años de trabajos totales | Valor numérico |\n",
        "| training times last year | tiempos de entrenamiento el año pasado  |Valor numérico |\n",
        "| work life balance | equilibrio trabajo vida  | Valor numérico |\n",
        "| years at company  | años en la empresa  | Valor numérico |\n",
        "| years incurrent role  | años de rol actual  | Valor numérico |\n",
        "| years with current manager  | años con el gerente actual  | Valor numérico |\n",
        "\n",
        "\n",
        "\n",
        "\n",
        "\n",
        "\n",
        "\n"
      ]
    },
    {
      "cell_type": "code",
      "metadata": {
        "colab": {
          "base_uri": "https://localhost:8080/"
        },
        "id": "zJQyvy_nmfAT",
        "outputId": "ad9d9e5f-4e5b-434f-adbf-a3ec69c19e0e"
      },
      "source": [
        "ibmdata.info()"
      ],
      "execution_count": null,
      "outputs": [
        {
          "output_type": "stream",
          "text": [
            "<class 'pandas.core.frame.DataFrame'>\n",
            "RangeIndex: 1470 entries, 0 to 1469\n",
            "Data columns (total 35 columns):\n",
            " #   Column                    Non-Null Count  Dtype  \n",
            "---  ------                    --------------  -----  \n",
            " 0   Age                       1470 non-null   int64  \n",
            " 1   Attrition                 1470 non-null   object \n",
            " 2   BusinessTravel            1470 non-null   object \n",
            " 3   DailyRate                 1467 non-null   float64\n",
            " 4   Department                1470 non-null   object \n",
            " 5   DistanceFromHome          1470 non-null   int64  \n",
            " 6   Education                 1470 non-null   int64  \n",
            " 7   EducationField            1470 non-null   object \n",
            " 8   EmployeeCount             1470 non-null   int64  \n",
            " 9   EmployeeNumber            1470 non-null   int64  \n",
            " 10  EnvironmentSatisfaction   1470 non-null   int64  \n",
            " 11  Gender                    1470 non-null   object \n",
            " 12  HourlyRate                1470 non-null   int64  \n",
            " 13  JobInvolvement            1470 non-null   int64  \n",
            " 14  JobLevel                  1470 non-null   int64  \n",
            " 15  JobRole                   1470 non-null   object \n",
            " 16  JobSatisfaction           1470 non-null   int64  \n",
            " 17  MaritalStatus             1470 non-null   object \n",
            " 18  MonthlyIncome             1470 non-null   int64  \n",
            " 19  MonthlyRate               1470 non-null   int64  \n",
            " 20  NumCompaniesWorked        1470 non-null   int64  \n",
            " 21  Over18                    1470 non-null   object \n",
            " 22  OverTime                  1470 non-null   object \n",
            " 23  PercentSalaryHike         1470 non-null   int64  \n",
            " 24  PerformanceRating         1470 non-null   int64  \n",
            " 25  RelationshipSatisfaction  1470 non-null   int64  \n",
            " 26  StandardHours             1470 non-null   int64  \n",
            " 27  StockOptionLevel          1470 non-null   int64  \n",
            " 28  TotalWorkingYears         1467 non-null   float64\n",
            " 29  TrainingTimesLastYear     1470 non-null   int64  \n",
            " 30  WorkLifeBalance           1470 non-null   int64  \n",
            " 31  YearsAtCompany            1470 non-null   int64  \n",
            " 32  YearsInCurrentRole        1470 non-null   int64  \n",
            " 33  YearsSinceLastPromotion   1470 non-null   int64  \n",
            " 34  YearsWithCurrManager      1470 non-null   int64  \n",
            "dtypes: float64(2), int64(24), object(9)\n",
            "memory usage: 402.1+ KB\n"
          ],
          "name": "stdout"
        }
      ]
    },
    {
      "cell_type": "code",
      "metadata": {
        "colab": {
          "base_uri": "https://localhost:8080/",
          "height": 317
        },
        "id": "rhEFM5SS3W01",
        "outputId": "e05a468e-d7cb-4451-d008-22341f71d79e"
      },
      "source": [
        "ibmdata.describe()"
      ],
      "execution_count": null,
      "outputs": [
        {
          "output_type": "execute_result",
          "data": {
            "text/html": [
              "<div>\n",
              "<style scoped>\n",
              "    .dataframe tbody tr th:only-of-type {\n",
              "        vertical-align: middle;\n",
              "    }\n",
              "\n",
              "    .dataframe tbody tr th {\n",
              "        vertical-align: top;\n",
              "    }\n",
              "\n",
              "    .dataframe thead th {\n",
              "        text-align: right;\n",
              "    }\n",
              "</style>\n",
              "<table border=\"1\" class=\"dataframe\">\n",
              "  <thead>\n",
              "    <tr style=\"text-align: right;\">\n",
              "      <th></th>\n",
              "      <th>Age</th>\n",
              "      <th>DailyRate</th>\n",
              "      <th>DistanceFromHome</th>\n",
              "      <th>Education</th>\n",
              "      <th>EmployeeCount</th>\n",
              "      <th>EmployeeNumber</th>\n",
              "      <th>EnvironmentSatisfaction</th>\n",
              "      <th>HourlyRate</th>\n",
              "      <th>JobInvolvement</th>\n",
              "      <th>JobLevel</th>\n",
              "      <th>JobSatisfaction</th>\n",
              "      <th>MonthlyIncome</th>\n",
              "      <th>MonthlyRate</th>\n",
              "      <th>NumCompaniesWorked</th>\n",
              "      <th>PercentSalaryHike</th>\n",
              "      <th>PerformanceRating</th>\n",
              "      <th>RelationshipSatisfaction</th>\n",
              "      <th>StandardHours</th>\n",
              "      <th>StockOptionLevel</th>\n",
              "      <th>TotalWorkingYears</th>\n",
              "      <th>TrainingTimesLastYear</th>\n",
              "      <th>WorkLifeBalance</th>\n",
              "      <th>YearsAtCompany</th>\n",
              "      <th>YearsInCurrentRole</th>\n",
              "      <th>YearsSinceLastPromotion</th>\n",
              "      <th>YearsWithCurrManager</th>\n",
              "    </tr>\n",
              "  </thead>\n",
              "  <tbody>\n",
              "    <tr>\n",
              "      <th>count</th>\n",
              "      <td>1470.000000</td>\n",
              "      <td>1467.000000</td>\n",
              "      <td>1470.000000</td>\n",
              "      <td>1470.000000</td>\n",
              "      <td>1470.0</td>\n",
              "      <td>1470.000000</td>\n",
              "      <td>1470.000000</td>\n",
              "      <td>1470.000000</td>\n",
              "      <td>1470.000000</td>\n",
              "      <td>1470.000000</td>\n",
              "      <td>1470.000000</td>\n",
              "      <td>1470.000000</td>\n",
              "      <td>1470.000000</td>\n",
              "      <td>1470.000000</td>\n",
              "      <td>1470.000000</td>\n",
              "      <td>1470.000000</td>\n",
              "      <td>1470.000000</td>\n",
              "      <td>1470.0</td>\n",
              "      <td>1470.000000</td>\n",
              "      <td>1467.000000</td>\n",
              "      <td>1470.000000</td>\n",
              "      <td>1470.000000</td>\n",
              "      <td>1470.000000</td>\n",
              "      <td>1470.000000</td>\n",
              "      <td>1470.000000</td>\n",
              "      <td>1470.000000</td>\n",
              "    </tr>\n",
              "    <tr>\n",
              "      <th>mean</th>\n",
              "      <td>36.923810</td>\n",
              "      <td>802.315610</td>\n",
              "      <td>9.192517</td>\n",
              "      <td>2.912925</td>\n",
              "      <td>1.0</td>\n",
              "      <td>1024.865306</td>\n",
              "      <td>2.721769</td>\n",
              "      <td>65.891156</td>\n",
              "      <td>2.729932</td>\n",
              "      <td>2.063946</td>\n",
              "      <td>2.728571</td>\n",
              "      <td>6502.931293</td>\n",
              "      <td>14313.103401</td>\n",
              "      <td>2.693197</td>\n",
              "      <td>15.209524</td>\n",
              "      <td>3.153741</td>\n",
              "      <td>2.712245</td>\n",
              "      <td>80.0</td>\n",
              "      <td>0.793878</td>\n",
              "      <td>11.282890</td>\n",
              "      <td>2.799320</td>\n",
              "      <td>2.761224</td>\n",
              "      <td>7.008163</td>\n",
              "      <td>4.229252</td>\n",
              "      <td>2.187755</td>\n",
              "      <td>4.123129</td>\n",
              "    </tr>\n",
              "    <tr>\n",
              "      <th>std</th>\n",
              "      <td>9.135373</td>\n",
              "      <td>403.370111</td>\n",
              "      <td>8.106864</td>\n",
              "      <td>1.024165</td>\n",
              "      <td>0.0</td>\n",
              "      <td>602.024335</td>\n",
              "      <td>1.093082</td>\n",
              "      <td>20.329428</td>\n",
              "      <td>0.711561</td>\n",
              "      <td>1.106940</td>\n",
              "      <td>1.102846</td>\n",
              "      <td>4707.956783</td>\n",
              "      <td>7117.786044</td>\n",
              "      <td>2.498009</td>\n",
              "      <td>3.659938</td>\n",
              "      <td>0.360824</td>\n",
              "      <td>1.081209</td>\n",
              "      <td>0.0</td>\n",
              "      <td>0.852077</td>\n",
              "      <td>7.781182</td>\n",
              "      <td>1.289271</td>\n",
              "      <td>0.706476</td>\n",
              "      <td>6.126525</td>\n",
              "      <td>3.623137</td>\n",
              "      <td>3.222430</td>\n",
              "      <td>3.568136</td>\n",
              "    </tr>\n",
              "    <tr>\n",
              "      <th>min</th>\n",
              "      <td>18.000000</td>\n",
              "      <td>102.000000</td>\n",
              "      <td>1.000000</td>\n",
              "      <td>1.000000</td>\n",
              "      <td>1.0</td>\n",
              "      <td>1.000000</td>\n",
              "      <td>1.000000</td>\n",
              "      <td>30.000000</td>\n",
              "      <td>1.000000</td>\n",
              "      <td>1.000000</td>\n",
              "      <td>1.000000</td>\n",
              "      <td>1009.000000</td>\n",
              "      <td>2094.000000</td>\n",
              "      <td>0.000000</td>\n",
              "      <td>11.000000</td>\n",
              "      <td>3.000000</td>\n",
              "      <td>1.000000</td>\n",
              "      <td>80.0</td>\n",
              "      <td>0.000000</td>\n",
              "      <td>0.000000</td>\n",
              "      <td>0.000000</td>\n",
              "      <td>1.000000</td>\n",
              "      <td>0.000000</td>\n",
              "      <td>0.000000</td>\n",
              "      <td>0.000000</td>\n",
              "      <td>0.000000</td>\n",
              "    </tr>\n",
              "    <tr>\n",
              "      <th>25%</th>\n",
              "      <td>30.000000</td>\n",
              "      <td>465.000000</td>\n",
              "      <td>2.000000</td>\n",
              "      <td>2.000000</td>\n",
              "      <td>1.0</td>\n",
              "      <td>491.250000</td>\n",
              "      <td>2.000000</td>\n",
              "      <td>48.000000</td>\n",
              "      <td>2.000000</td>\n",
              "      <td>1.000000</td>\n",
              "      <td>2.000000</td>\n",
              "      <td>2911.000000</td>\n",
              "      <td>8047.000000</td>\n",
              "      <td>1.000000</td>\n",
              "      <td>12.000000</td>\n",
              "      <td>3.000000</td>\n",
              "      <td>2.000000</td>\n",
              "      <td>80.0</td>\n",
              "      <td>0.000000</td>\n",
              "      <td>6.000000</td>\n",
              "      <td>2.000000</td>\n",
              "      <td>2.000000</td>\n",
              "      <td>3.000000</td>\n",
              "      <td>2.000000</td>\n",
              "      <td>0.000000</td>\n",
              "      <td>2.000000</td>\n",
              "    </tr>\n",
              "    <tr>\n",
              "      <th>50%</th>\n",
              "      <td>36.000000</td>\n",
              "      <td>802.000000</td>\n",
              "      <td>7.000000</td>\n",
              "      <td>3.000000</td>\n",
              "      <td>1.0</td>\n",
              "      <td>1020.500000</td>\n",
              "      <td>3.000000</td>\n",
              "      <td>66.000000</td>\n",
              "      <td>3.000000</td>\n",
              "      <td>2.000000</td>\n",
              "      <td>3.000000</td>\n",
              "      <td>4919.000000</td>\n",
              "      <td>14235.500000</td>\n",
              "      <td>2.000000</td>\n",
              "      <td>14.000000</td>\n",
              "      <td>3.000000</td>\n",
              "      <td>3.000000</td>\n",
              "      <td>80.0</td>\n",
              "      <td>1.000000</td>\n",
              "      <td>10.000000</td>\n",
              "      <td>3.000000</td>\n",
              "      <td>3.000000</td>\n",
              "      <td>5.000000</td>\n",
              "      <td>3.000000</td>\n",
              "      <td>1.000000</td>\n",
              "      <td>3.000000</td>\n",
              "    </tr>\n",
              "    <tr>\n",
              "      <th>75%</th>\n",
              "      <td>43.000000</td>\n",
              "      <td>1157.000000</td>\n",
              "      <td>14.000000</td>\n",
              "      <td>4.000000</td>\n",
              "      <td>1.0</td>\n",
              "      <td>1555.750000</td>\n",
              "      <td>4.000000</td>\n",
              "      <td>83.750000</td>\n",
              "      <td>3.000000</td>\n",
              "      <td>3.000000</td>\n",
              "      <td>4.000000</td>\n",
              "      <td>8379.000000</td>\n",
              "      <td>20461.500000</td>\n",
              "      <td>4.000000</td>\n",
              "      <td>18.000000</td>\n",
              "      <td>3.000000</td>\n",
              "      <td>4.000000</td>\n",
              "      <td>80.0</td>\n",
              "      <td>1.000000</td>\n",
              "      <td>15.000000</td>\n",
              "      <td>3.000000</td>\n",
              "      <td>3.000000</td>\n",
              "      <td>9.000000</td>\n",
              "      <td>7.000000</td>\n",
              "      <td>3.000000</td>\n",
              "      <td>7.000000</td>\n",
              "    </tr>\n",
              "    <tr>\n",
              "      <th>max</th>\n",
              "      <td>60.000000</td>\n",
              "      <td>1499.000000</td>\n",
              "      <td>29.000000</td>\n",
              "      <td>5.000000</td>\n",
              "      <td>1.0</td>\n",
              "      <td>2068.000000</td>\n",
              "      <td>4.000000</td>\n",
              "      <td>100.000000</td>\n",
              "      <td>4.000000</td>\n",
              "      <td>5.000000</td>\n",
              "      <td>4.000000</td>\n",
              "      <td>19999.000000</td>\n",
              "      <td>26999.000000</td>\n",
              "      <td>9.000000</td>\n",
              "      <td>25.000000</td>\n",
              "      <td>4.000000</td>\n",
              "      <td>4.000000</td>\n",
              "      <td>80.0</td>\n",
              "      <td>3.000000</td>\n",
              "      <td>40.000000</td>\n",
              "      <td>6.000000</td>\n",
              "      <td>4.000000</td>\n",
              "      <td>40.000000</td>\n",
              "      <td>18.000000</td>\n",
              "      <td>15.000000</td>\n",
              "      <td>17.000000</td>\n",
              "    </tr>\n",
              "  </tbody>\n",
              "</table>\n",
              "</div>"
            ],
            "text/plain": [
              "               Age    DailyRate  ...  YearsSinceLastPromotion  YearsWithCurrManager\n",
              "count  1470.000000  1467.000000  ...              1470.000000           1470.000000\n",
              "mean     36.923810   802.315610  ...                 2.187755              4.123129\n",
              "std       9.135373   403.370111  ...                 3.222430              3.568136\n",
              "min      18.000000   102.000000  ...                 0.000000              0.000000\n",
              "25%      30.000000   465.000000  ...                 0.000000              2.000000\n",
              "50%      36.000000   802.000000  ...                 1.000000              3.000000\n",
              "75%      43.000000  1157.000000  ...                 3.000000              7.000000\n",
              "max      60.000000  1499.000000  ...                15.000000             17.000000\n",
              "\n",
              "[8 rows x 26 columns]"
            ]
          },
          "metadata": {
            "tags": []
          },
          "execution_count": 392
        }
      ]
    },
    {
      "cell_type": "code",
      "metadata": {
        "colab": {
          "base_uri": "https://localhost:8080/",
          "height": 309
        },
        "id": "ZJRYqw4knLU5",
        "outputId": "f83be86b-079b-4c83-c1ef-d8eefb8e090b"
      },
      "source": [
        "ibmdata.head()"
      ],
      "execution_count": null,
      "outputs": [
        {
          "output_type": "execute_result",
          "data": {
            "text/html": [
              "<div>\n",
              "<style scoped>\n",
              "    .dataframe tbody tr th:only-of-type {\n",
              "        vertical-align: middle;\n",
              "    }\n",
              "\n",
              "    .dataframe tbody tr th {\n",
              "        vertical-align: top;\n",
              "    }\n",
              "\n",
              "    .dataframe thead th {\n",
              "        text-align: right;\n",
              "    }\n",
              "</style>\n",
              "<table border=\"1\" class=\"dataframe\">\n",
              "  <thead>\n",
              "    <tr style=\"text-align: right;\">\n",
              "      <th></th>\n",
              "      <th>Age</th>\n",
              "      <th>Attrition</th>\n",
              "      <th>BusinessTravel</th>\n",
              "      <th>DailyRate</th>\n",
              "      <th>Department</th>\n",
              "      <th>DistanceFromHome</th>\n",
              "      <th>Education</th>\n",
              "      <th>EducationField</th>\n",
              "      <th>EmployeeCount</th>\n",
              "      <th>EmployeeNumber</th>\n",
              "      <th>EnvironmentSatisfaction</th>\n",
              "      <th>Gender</th>\n",
              "      <th>HourlyRate</th>\n",
              "      <th>JobInvolvement</th>\n",
              "      <th>JobLevel</th>\n",
              "      <th>JobRole</th>\n",
              "      <th>JobSatisfaction</th>\n",
              "      <th>MaritalStatus</th>\n",
              "      <th>MonthlyIncome</th>\n",
              "      <th>MonthlyRate</th>\n",
              "      <th>NumCompaniesWorked</th>\n",
              "      <th>Over18</th>\n",
              "      <th>OverTime</th>\n",
              "      <th>PercentSalaryHike</th>\n",
              "      <th>PerformanceRating</th>\n",
              "      <th>RelationshipSatisfaction</th>\n",
              "      <th>StandardHours</th>\n",
              "      <th>StockOptionLevel</th>\n",
              "      <th>TotalWorkingYears</th>\n",
              "      <th>TrainingTimesLastYear</th>\n",
              "      <th>WorkLifeBalance</th>\n",
              "      <th>YearsAtCompany</th>\n",
              "      <th>YearsInCurrentRole</th>\n",
              "      <th>YearsSinceLastPromotion</th>\n",
              "      <th>YearsWithCurrManager</th>\n",
              "    </tr>\n",
              "  </thead>\n",
              "  <tbody>\n",
              "    <tr>\n",
              "      <th>0</th>\n",
              "      <td>41</td>\n",
              "      <td>Yes</td>\n",
              "      <td>Travel_Rarely</td>\n",
              "      <td>1102.0</td>\n",
              "      <td>Sales</td>\n",
              "      <td>1</td>\n",
              "      <td>2</td>\n",
              "      <td>Life Sciences</td>\n",
              "      <td>1</td>\n",
              "      <td>1</td>\n",
              "      <td>2</td>\n",
              "      <td>Female</td>\n",
              "      <td>94</td>\n",
              "      <td>3</td>\n",
              "      <td>2</td>\n",
              "      <td>Sales Executive</td>\n",
              "      <td>4</td>\n",
              "      <td>Single</td>\n",
              "      <td>5993</td>\n",
              "      <td>19479</td>\n",
              "      <td>8</td>\n",
              "      <td>Y</td>\n",
              "      <td>Yes</td>\n",
              "      <td>11</td>\n",
              "      <td>3</td>\n",
              "      <td>1</td>\n",
              "      <td>80</td>\n",
              "      <td>0</td>\n",
              "      <td>8.0</td>\n",
              "      <td>0</td>\n",
              "      <td>1</td>\n",
              "      <td>6</td>\n",
              "      <td>4</td>\n",
              "      <td>0</td>\n",
              "      <td>5</td>\n",
              "    </tr>\n",
              "    <tr>\n",
              "      <th>1</th>\n",
              "      <td>49</td>\n",
              "      <td>No</td>\n",
              "      <td>Travel_Frequently</td>\n",
              "      <td>NaN</td>\n",
              "      <td>Research &amp; Development</td>\n",
              "      <td>8</td>\n",
              "      <td>1</td>\n",
              "      <td>Life Sciences</td>\n",
              "      <td>1</td>\n",
              "      <td>2</td>\n",
              "      <td>3</td>\n",
              "      <td>Male</td>\n",
              "      <td>61</td>\n",
              "      <td>2</td>\n",
              "      <td>2</td>\n",
              "      <td>Research Scientist</td>\n",
              "      <td>2</td>\n",
              "      <td>Married</td>\n",
              "      <td>5130</td>\n",
              "      <td>24907</td>\n",
              "      <td>1</td>\n",
              "      <td>Y</td>\n",
              "      <td>No</td>\n",
              "      <td>23</td>\n",
              "      <td>4</td>\n",
              "      <td>4</td>\n",
              "      <td>80</td>\n",
              "      <td>1</td>\n",
              "      <td>10.0</td>\n",
              "      <td>3</td>\n",
              "      <td>3</td>\n",
              "      <td>10</td>\n",
              "      <td>7</td>\n",
              "      <td>1</td>\n",
              "      <td>7</td>\n",
              "    </tr>\n",
              "    <tr>\n",
              "      <th>2</th>\n",
              "      <td>37</td>\n",
              "      <td>Yes</td>\n",
              "      <td>Travel_Rarely</td>\n",
              "      <td>1373.0</td>\n",
              "      <td>Research &amp; Development</td>\n",
              "      <td>2</td>\n",
              "      <td>2</td>\n",
              "      <td>Other</td>\n",
              "      <td>1</td>\n",
              "      <td>4</td>\n",
              "      <td>4</td>\n",
              "      <td>Male</td>\n",
              "      <td>92</td>\n",
              "      <td>2</td>\n",
              "      <td>1</td>\n",
              "      <td>Laboratory Technician</td>\n",
              "      <td>3</td>\n",
              "      <td>Single</td>\n",
              "      <td>2090</td>\n",
              "      <td>2396</td>\n",
              "      <td>6</td>\n",
              "      <td>Y</td>\n",
              "      <td>Yes</td>\n",
              "      <td>15</td>\n",
              "      <td>3</td>\n",
              "      <td>2</td>\n",
              "      <td>80</td>\n",
              "      <td>0</td>\n",
              "      <td>7.0</td>\n",
              "      <td>3</td>\n",
              "      <td>3</td>\n",
              "      <td>0</td>\n",
              "      <td>0</td>\n",
              "      <td>0</td>\n",
              "      <td>0</td>\n",
              "    </tr>\n",
              "    <tr>\n",
              "      <th>3</th>\n",
              "      <td>33</td>\n",
              "      <td>No</td>\n",
              "      <td>Travel_Frequently</td>\n",
              "      <td>1392.0</td>\n",
              "      <td>Research &amp; Development</td>\n",
              "      <td>3</td>\n",
              "      <td>4</td>\n",
              "      <td>Life Sciences</td>\n",
              "      <td>1</td>\n",
              "      <td>5</td>\n",
              "      <td>4</td>\n",
              "      <td>Female</td>\n",
              "      <td>56</td>\n",
              "      <td>3</td>\n",
              "      <td>1</td>\n",
              "      <td>Research Scientist</td>\n",
              "      <td>3</td>\n",
              "      <td>Married</td>\n",
              "      <td>2909</td>\n",
              "      <td>23159</td>\n",
              "      <td>1</td>\n",
              "      <td>Y</td>\n",
              "      <td>Yes</td>\n",
              "      <td>11</td>\n",
              "      <td>3</td>\n",
              "      <td>3</td>\n",
              "      <td>80</td>\n",
              "      <td>0</td>\n",
              "      <td>8.0</td>\n",
              "      <td>3</td>\n",
              "      <td>3</td>\n",
              "      <td>8</td>\n",
              "      <td>7</td>\n",
              "      <td>3</td>\n",
              "      <td>0</td>\n",
              "    </tr>\n",
              "    <tr>\n",
              "      <th>4</th>\n",
              "      <td>27</td>\n",
              "      <td>No</td>\n",
              "      <td>Travel_Rarely</td>\n",
              "      <td>591.0</td>\n",
              "      <td>Research &amp; Development</td>\n",
              "      <td>2</td>\n",
              "      <td>1</td>\n",
              "      <td>Medical</td>\n",
              "      <td>1</td>\n",
              "      <td>7</td>\n",
              "      <td>1</td>\n",
              "      <td>Male</td>\n",
              "      <td>40</td>\n",
              "      <td>3</td>\n",
              "      <td>1</td>\n",
              "      <td>Laboratory Technician</td>\n",
              "      <td>2</td>\n",
              "      <td>Married</td>\n",
              "      <td>3468</td>\n",
              "      <td>16632</td>\n",
              "      <td>9</td>\n",
              "      <td>Y</td>\n",
              "      <td>No</td>\n",
              "      <td>12</td>\n",
              "      <td>3</td>\n",
              "      <td>4</td>\n",
              "      <td>80</td>\n",
              "      <td>1</td>\n",
              "      <td>6.0</td>\n",
              "      <td>3</td>\n",
              "      <td>3</td>\n",
              "      <td>2</td>\n",
              "      <td>2</td>\n",
              "      <td>2</td>\n",
              "      <td>2</td>\n",
              "    </tr>\n",
              "  </tbody>\n",
              "</table>\n",
              "</div>"
            ],
            "text/plain": [
              "   Age Attrition  ... YearsSinceLastPromotion  YearsWithCurrManager\n",
              "0   41       Yes  ...                       0                     5\n",
              "1   49        No  ...                       1                     7\n",
              "2   37       Yes  ...                       0                     0\n",
              "3   33        No  ...                       3                     0\n",
              "4   27        No  ...                       2                     2\n",
              "\n",
              "[5 rows x 35 columns]"
            ]
          },
          "metadata": {
            "tags": []
          },
          "execution_count": 393
        }
      ]
    },
    {
      "cell_type": "markdown",
      "metadata": {
        "id": "Vwmjz8olqUJ8"
      },
      "source": [
        "###**Estadística exploratoria**\n",
        "---\n",
        "Antes de realizar el anális exploratorio de los datos, se eliminaran las columnas que no son de gran relevancia o que tiene información redundante. "
      ]
    },
    {
      "cell_type": "code",
      "metadata": {
        "id": "Y4LHqYmy7ORN"
      },
      "source": [
        "ibmdata=ibmdata.drop(['EmployeeCount'], axis=1)\n",
        "ibmdata=ibmdata.drop(['MonthlyRate'], axis=1)"
      ],
      "execution_count": null,
      "outputs": []
    },
    {
      "cell_type": "markdown",
      "metadata": {
        "id": "VeKJDFXkHD27"
      },
      "source": [
        "A continuación se presentan algunas medidas importantes, sin embargo muchas medidas se evidencian mejor de manera gráfica, más adelante se presentará una visualización sencilla de variables importantes. "
      ]
    },
    {
      "cell_type": "code",
      "metadata": {
        "colab": {
          "base_uri": "https://localhost:8080/",
          "height": 297
        },
        "id": "lv1Oz1uDqi8W",
        "outputId": "d8606ec9-99e0-488d-cd77-8b37b38cdfdd"
      },
      "source": [
        "edad_media='{0:.3f}'.format(ibmdata['Age'].mean()) # edad promedio\n",
        "mayor=ibmdata['Age'].max() # edad maxima\n",
        "menor=ibmdata['Age'].min() #edad minima\n",
        "desgaste=ibmdata['Attrition'].value_counts() # conteo de personas por desercion \n",
        "tarifa_diaria_media='{0:.3f}'.format(ibmdata['DailyRate'].mean()) #promedio de tarifa diaria \n",
        "tarifa_diaria_moda=ibmdata['DailyRate'].mode() # moda tarifa diaria \n",
        "genero=ibmdata['Gender'].value_counts() # conteo por genero \n",
        "rol=ibmdata['JobRole'].value_counts() # conteo por rol \n",
        "explo=pd.DataFrame() # crear datadrame para visualizar mejor los resultados \n",
        "explo['Variable']=['Edad media','Edad mayor','Edad menor','Desgaste','Media tarifa diaria','moda tarifa diaria','Genero','Rol']\n",
        "explo['Resultado']=[edad_media,mayor,menor,desgaste,tarifa_diaria_media,tarifa_diaria_moda,genero,rol]\n",
        "explo"
      ],
      "execution_count": null,
      "outputs": [
        {
          "output_type": "execute_result",
          "data": {
            "text/html": [
              "<div>\n",
              "<style scoped>\n",
              "    .dataframe tbody tr th:only-of-type {\n",
              "        vertical-align: middle;\n",
              "    }\n",
              "\n",
              "    .dataframe tbody tr th {\n",
              "        vertical-align: top;\n",
              "    }\n",
              "\n",
              "    .dataframe thead th {\n",
              "        text-align: right;\n",
              "    }\n",
              "</style>\n",
              "<table border=\"1\" class=\"dataframe\">\n",
              "  <thead>\n",
              "    <tr style=\"text-align: right;\">\n",
              "      <th></th>\n",
              "      <th>Variable</th>\n",
              "      <th>Resultado</th>\n",
              "    </tr>\n",
              "  </thead>\n",
              "  <tbody>\n",
              "    <tr>\n",
              "      <th>0</th>\n",
              "      <td>Edad media</td>\n",
              "      <td>36.924</td>\n",
              "    </tr>\n",
              "    <tr>\n",
              "      <th>1</th>\n",
              "      <td>Edad mayor</td>\n",
              "      <td>60</td>\n",
              "    </tr>\n",
              "    <tr>\n",
              "      <th>2</th>\n",
              "      <td>Edad menor</td>\n",
              "      <td>18</td>\n",
              "    </tr>\n",
              "    <tr>\n",
              "      <th>3</th>\n",
              "      <td>Desgaste</td>\n",
              "      <td>No     1233\n",
              "Yes     237\n",
              "Name: Attrition, dtype...</td>\n",
              "    </tr>\n",
              "    <tr>\n",
              "      <th>4</th>\n",
              "      <td>Media tarifa diaria</td>\n",
              "      <td>802.316</td>\n",
              "    </tr>\n",
              "    <tr>\n",
              "      <th>5</th>\n",
              "      <td>moda tarifa diaria</td>\n",
              "      <td>0    691.0\n",
              "dtype: float64</td>\n",
              "    </tr>\n",
              "    <tr>\n",
              "      <th>6</th>\n",
              "      <td>Genero</td>\n",
              "      <td>Male      882\n",
              "Female    588\n",
              "Name: Gender, dtyp...</td>\n",
              "    </tr>\n",
              "    <tr>\n",
              "      <th>7</th>\n",
              "      <td>Rol</td>\n",
              "      <td>Sales Executive              326\n",
              "Research Scie...</td>\n",
              "    </tr>\n",
              "  </tbody>\n",
              "</table>\n",
              "</div>"
            ],
            "text/plain": [
              "              Variable                                          Resultado\n",
              "0           Edad media                                             36.924\n",
              "1           Edad mayor                                                 60\n",
              "2           Edad menor                                                 18\n",
              "3             Desgaste  No     1233\n",
              "Yes     237\n",
              "Name: Attrition, dtype...\n",
              "4  Media tarifa diaria                                            802.316\n",
              "5   moda tarifa diaria                          0    691.0\n",
              "dtype: float64\n",
              "6               Genero  Male      882\n",
              "Female    588\n",
              "Name: Gender, dtyp...\n",
              "7                  Rol  Sales Executive              326\n",
              "Research Scie..."
            ]
          },
          "metadata": {
            "tags": []
          },
          "execution_count": 395
        }
      ]
    },
    {
      "cell_type": "markdown",
      "metadata": {
        "id": "9w3pd1IV_Ei-"
      },
      "source": [
        "A continuación se muestran los datos de la varianza de cada atributo y partir de estos se identifica que el dato **`StandardHours `** tiene una varianza de 0 es decir que el dato es el mismo, por lo cual no se tendra en cuenta. Igualmente se observan los atributos de menor a mayor varianza, resaltando **`MonthlyIncome`**  (ingreso mensual) como el dato que mas se aleja de la media y **`PerformanceRating  `** (clasificacion de rendimiento) el dato que mas se acerca a la media. "
      ]
    },
    {
      "cell_type": "code",
      "metadata": {
        "colab": {
          "base_uri": "https://localhost:8080/"
        },
        "id": "DN6e1Gw78ePr",
        "outputId": "94bbf5ba-1680-49a6-b9ff-4e860d80367d"
      },
      "source": [
        "varianza=(ibmdata.var()).sort_values() # varianza de cada atributo\n",
        "varianza"
      ],
      "execution_count": null,
      "outputs": [
        {
          "output_type": "execute_result",
          "data": {
            "text/plain": [
              "StandardHours               0.000000e+00\n",
              "PerformanceRating           1.301936e-01\n",
              "WorkLifeBalance             4.991081e-01\n",
              "JobInvolvement              5.063193e-01\n",
              "StockOptionLevel            7.260346e-01\n",
              "Education                   1.048914e+00\n",
              "RelationshipSatisfaction    1.169013e+00\n",
              "EnvironmentSatisfaction     1.194829e+00\n",
              "JobSatisfaction             1.216270e+00\n",
              "JobLevel                    1.225316e+00\n",
              "TrainingTimesLastYear       1.662219e+00\n",
              "NumCompaniesWorked          6.240049e+00\n",
              "YearsSinceLastPromotion     1.038406e+01\n",
              "YearsWithCurrManager        1.273160e+01\n",
              "YearsInCurrentRole          1.312712e+01\n",
              "PercentSalaryHike           1.339514e+01\n",
              "YearsAtCompany              3.753431e+01\n",
              "TotalWorkingYears           6.054679e+01\n",
              "DistanceFromHome            6.572125e+01\n",
              "Age                         8.345505e+01\n",
              "HourlyRate                  4.132856e+02\n",
              "DailyRate                   1.627074e+05\n",
              "EmployeeNumber              3.624333e+05\n",
              "MonthlyIncome               2.216486e+07\n",
              "dtype: float64"
            ]
          },
          "metadata": {
            "tags": []
          },
          "execution_count": 396
        }
      ]
    },
    {
      "cell_type": "markdown",
      "metadata": {
        "id": "SjJ7Zh3KIhNH"
      },
      "source": [
        "Al sacar la desviación estandar resaltamos el dato con menor disperción con respecto a la media muestral como **`PerformanceRating  `** e igualmente 4 datos con una disperción con respecto a la media muestral muy alta es decir que estas variables su tendencia fue muy diferente en los trabajadores de IBM. "
      ]
    },
    {
      "cell_type": "code",
      "metadata": {
        "colab": {
          "base_uri": "https://localhost:8080/"
        },
        "id": "d3sKVnOj8hhv",
        "outputId": "a818e2b7-cf3e-40ec-aaa2-51854f325d9c"
      },
      "source": [
        "ibmdata=ibmdata.drop(['StandardHours'], axis=1) # elimino columna con datos iguales \n",
        "desv_est=(ibmdata.std()).sort_values() # hallar desviacion estandar \n",
        "desv_est"
      ],
      "execution_count": null,
      "outputs": [
        {
          "output_type": "execute_result",
          "data": {
            "text/plain": [
              "PerformanceRating              0.360824\n",
              "WorkLifeBalance                0.706476\n",
              "JobInvolvement                 0.711561\n",
              "StockOptionLevel               0.852077\n",
              "Education                      1.024165\n",
              "RelationshipSatisfaction       1.081209\n",
              "EnvironmentSatisfaction        1.093082\n",
              "JobSatisfaction                1.102846\n",
              "JobLevel                       1.106940\n",
              "TrainingTimesLastYear          1.289271\n",
              "NumCompaniesWorked             2.498009\n",
              "YearsSinceLastPromotion        3.222430\n",
              "YearsWithCurrManager           3.568136\n",
              "YearsInCurrentRole             3.623137\n",
              "PercentSalaryHike              3.659938\n",
              "YearsAtCompany                 6.126525\n",
              "TotalWorkingYears              7.781182\n",
              "DistanceFromHome               8.106864\n",
              "Age                            9.135373\n",
              "HourlyRate                    20.329428\n",
              "DailyRate                    403.370111\n",
              "EmployeeNumber               602.024335\n",
              "MonthlyIncome               4707.956783\n",
              "dtype: float64"
            ]
          },
          "metadata": {
            "tags": []
          },
          "execution_count": 397
        }
      ]
    },
    {
      "cell_type": "markdown",
      "metadata": {
        "id": "3CG969X5Js6r"
      },
      "source": [
        "Se determinó la curtosis por cada atributo de datos,e igualmente se determino la media de estos obteniendo como resultado 0.219 indicando que en promedio los datos forman una campana gaussiana es decir su densidad es mayor en un punto de la grafica no estan distribuidos."
      ]
    },
    {
      "cell_type": "code",
      "metadata": {
        "colab": {
          "base_uri": "https://localhost:8080/"
        },
        "id": "2aOLx37w-B-H",
        "outputId": "22c3af6c-7ed8-4ee2-855b-642b2f3f13f1"
      },
      "source": [
        "curtosis=ibmdata.kurtosis().mean() # media de la curtosis \n",
        "curtosis"
      ],
      "execution_count": null,
      "outputs": [
        {
          "output_type": "execute_result",
          "data": {
            "text/plain": [
              "0.21992654828363595"
            ]
          },
          "metadata": {
            "tags": []
          },
          "execution_count": 398
        }
      ]
    },
    {
      "cell_type": "markdown",
      "metadata": {
        "id": "ZOposi7dKPzi"
      },
      "source": [
        "Al determinar la media de la simetría de los atributos evidenciamos que tienen una tendencia hacia la izquierda es decir valores pequeños."
      ]
    },
    {
      "cell_type": "code",
      "metadata": {
        "colab": {
          "base_uri": "https://localhost:8080/"
        },
        "id": "JnTo5_5a-X7o",
        "outputId": "8acda7cc-b047-412f-86de-b0ad0c078314"
      },
      "source": [
        "asimetria=ibmdata.skew().mean() # hallar simetria \n",
        "asimetria"
      ],
      "execution_count": null,
      "outputs": [
        {
          "output_type": "execute_result",
          "data": {
            "text/plain": [
              "0.5809792724954557"
            ]
          },
          "metadata": {
            "tags": []
          },
          "execution_count": 399
        }
      ]
    },
    {
      "cell_type": "code",
      "metadata": {
        "id": "KCi113FGOBss"
      },
      "source": [
        "ibmdata['Gender']=ibmdata['Gender'].replace('Female', 1 )\n",
        "ibmdata['Gender']=ibmdata['Gender'].replace('Male', 0 )\n",
        "ibmdata['Attrition']=ibmdata['Attrition'].replace('Yes', 1 )\n",
        "ibmdata['Attrition']=ibmdata['Attrition'].replace('No', 0 )\n"
      ],
      "execution_count": null,
      "outputs": []
    },
    {
      "cell_type": "markdown",
      "metadata": {
        "id": "93XOdxgHf2sU"
      },
      "source": [
        "A continuación realizamos un mapa de correlación sencillo entre todas las variables numéricas, es por esto que las columnas **`Attrition`** y **`Gender`** previamente se categorizaron en 1 o 0 para obtener datos en la correlación ya que son datos relevantes para el estudio. \n",
        "Podemos evidenciar que en general no se tiene mucha correlación en variables, solo en casos particulares, es por esto que más adelante se estudiaran grupos especificos. \n"
      ]
    },
    {
      "cell_type": "code",
      "metadata": {
        "colab": {
          "base_uri": "https://localhost:8080/",
          "height": 579
        },
        "id": "UMhxYyhjM5_U",
        "outputId": "f5f9c11c-d887-4017-b7c0-0ef666ea7ce1"
      },
      "source": [
        "\n",
        "correlacion_total = sns.heatmap(ibmdata.corr(),cmap='coolwarm',vmin=-1);# correlacion de toda la matriz"
      ],
      "execution_count": null,
      "outputs": [
        {
          "output_type": "display_data",
          "data": {
            "image/png": "[encoded data removed]",
            "text/plain": [
              "<Figure size 660x440 with 2 Axes>"
            ]
          },
          "metadata": {
            "tags": [],
            "needs_background": "light"
          }
        }
      ]
    },
    {
      "cell_type": "code",
      "metadata": {
        "colab": {
          "base_uri": "https://localhost:8080/",
          "height": 458
        },
        "id": "-p7DeUbYK0BH",
        "outputId": "b0da105c-e2c6-49f2-d6ce-c8f2cd4edca6"
      },
      "source": [
        "# histograma que muestra la edad de los trabajadores\n",
        "edad=plt.hist(ibmdata['Age'], bins=20, width=2,color='blue')  \n",
        "plt.title('Edad Trabajadores')\n",
        "plt.xlabel('Edad')\n",
        "plt.ylabel('Cantidad de pesonas')"
      ],
      "execution_count": null,
      "outputs": [
        {
          "output_type": "execute_result",
          "data": {
            "text/plain": [
              "Text(0, 0.5, 'Cantidad de pesonas')"
            ]
          },
          "metadata": {
            "tags": []
          },
          "execution_count": 402
        },
        {
          "output_type": "display_data",
          "data": {
            "image/png": "[encoded data removed]",
            "text/plain": [
              "<Figure size 660x440 with 1 Axes>"
            ]
          },
          "metadata": {
            "tags": [],
            "needs_background": "light"
          }
        }
      ]
    },
    {
      "cell_type": "code",
      "metadata": {
        "colab": {
          "base_uri": "https://localhost:8080/",
          "height": 458
        },
        "id": "-8cGSCOHdbnx",
        "outputId": "fb263049-fc7b-4068-dd38-e7c97bb77ba9"
      },
      "source": [
        "# gráfica donde se evidencia la cantidad de deserciones por genero\n",
        "desgaste_hombre_mujer=sns.countplot(x='Gender', data=ibmdata,hue='Attrition');\n",
        "desgaste_hombre_mujer.set_title('Desgaste por hombres y mujeres', color=\"blue\")\n",
        "desgaste_hombre_mujer.set_xlabel('Genero: Mujer=1 Hombre=0', color=\"blue\")\n",
        "desgaste_hombre_mujer.set_ylabel('Conteo', color=\"blue\")\n",
        "desgaste_hombre_mujer.text(0.35, 700,\n",
        "        r\"Abandona la empresa 0=No 1=Si\", \n",
        "        fontsize=8, \n",
        "        color=\"red\")"
      ],
      "execution_count": null,
      "outputs": [
        {
          "output_type": "execute_result",
          "data": {
            "text/plain": [
              "Text(0.35, 700, 'Abandona la empresa 0=No 1=Si')"
            ]
          },
          "metadata": {
            "tags": []
          },
          "execution_count": 403
        },
        {
          "output_type": "display_data",
          "data": {
            "image/png": "[encoded data removed]",
            "text/plain": [
              "<Figure size 660x440 with 1 Axes>"
            ]
          },
          "metadata": {
            "tags": [],
            "needs_background": "light"
          }
        }
      ]
    },
    {
      "cell_type": "code",
      "metadata": {
        "colab": {
          "base_uri": "https://localhost:8080/",
          "height": 581
        },
        "id": "Tcy47nV2jF38",
        "outputId": "af2fc72b-2c6b-466e-a209-9a37388e07a5"
      },
      "source": [
        "# grafica de barras especificando cuantas personas abandonaron la empresa por campos de educacion\n",
        "desgaste_educacion=sns.countplot(x='EducationField', data=ibmdata,hue='Attrition', palette='plasma');\n",
        "desgaste_educacion.set_title('Desgaste por Campos de educacion',color=\"blue\")\n",
        "desgaste_educacion.set_xlabel('Campos de educacion', color=\"blue\")\n",
        "desgaste_educacion.set_ylabel('Conteo',color=\"blue\")\n",
        "desgaste_educacion.tick_params(axis='x', labelrotation=90)\n",
        "desgaste_educacion.text(0.5, 500,\n",
        "        r\"Abandona la empresa 0=No 1=Si\", \n",
        "        fontsize=8, \n",
        "        color=\"red\")"
      ],
      "execution_count": null,
      "outputs": [
        {
          "output_type": "execute_result",
          "data": {
            "text/plain": [
              "Text(0.5, 500, 'Abandona la empresa 0=No 1=Si')"
            ]
          },
          "metadata": {
            "tags": []
          },
          "execution_count": 404
        },
        {
          "output_type": "display_data",
          "data": {
            "image/png": "[encoded data removed]",
            "text/plain": [
              "<Figure size 660x440 with 1 Axes>"
            ]
          },
          "metadata": {
            "tags": [],
            "needs_background": "light"
          }
        }
      ]
    },
    {
      "cell_type": "code",
      "metadata": {
        "colab": {
          "base_uri": "https://localhost:8080/",
          "height": 630
        },
        "id": "1LCVCnzemzhg",
        "outputId": "17db3cb0-661a-499f-899c-a78428410eeb"
      },
      "source": [
        "# cuantas personas por genero en campos de educacion \n",
        "desgaste_puestos=sns.countplot(x='JobRole', data=ibmdata,hue='Gender');\n",
        "desgaste_puestos.set_title('Desgaste por Campos de educacion',color=\"blue\")\n",
        "desgaste_puestos.set_xlabel('Campos de educacion', color=\"blue\")\n",
        "desgaste_puestos.set_ylabel('Conteo',color=\"blue\")\n",
        "desgaste_puestos.tick_params(axis='x', labelrotation=90)"
      ],
      "execution_count": null,
      "outputs": [
        {
          "output_type": "display_data",
          "data": {
            "image/png": "[encoded data removed]",
            "text/plain": [
              "<Figure size 660x440 with 1 Axes>"
            ]
          },
          "metadata": {
            "tags": [],
            "needs_background": "light"
          }
        }
      ]
    },
    {
      "cell_type": "code",
      "metadata": {
        "colab": {
          "base_uri": "https://localhost:8080/",
          "height": 441
        },
        "id": "E2hWFGucs-0c",
        "outputId": "6cced986-b03d-4115-8605-e1c6deee1896"
      },
      "source": [
        "# grafica que relacion puesto de trabajo con la ganancia mensual \n",
        "ganancia_mes=ibmdata['MonthlyIncome'].sort_values()\n",
        "#fig = plt.figure(figsize=(12,3))\n",
        "#plt.scatter(ibmdata['MonthlyIncome'],ibmdata['JobLevel'])\n",
        "ax = sns.boxplot(x=\"JobLevel\", \n",
        "                 y=\"MonthlyIncome\", \n",
        "                 data=ibmdata, \n",
        "                 palette='rainbow')\n",
        "ax.set_title(\"Relacion puesto de trabajo con ganancia mensual\",color=\"blue\")\n",
        "ax.set_xlabel(\"Puesto de trabajo\",color=\"blue\")\n",
        "ax.set_ylabel(\"Ganancias mensuales\",color=\"blue\");"
      ],
      "execution_count": null,
      "outputs": [
        {
          "output_type": "display_data",
          "data": {
            "image/png": "[encoded data removed]",
            "text/plain": [
              "<Figure size 660x440 with 1 Axes>"
            ]
          },
          "metadata": {
            "tags": [],
            "needs_background": "light"
          }
        }
      ]
    },
    {
      "cell_type": "markdown",
      "metadata": {
        "id": "Ne8gawRmx0zl"
      },
      "source": [
        "###**Analisis de datos faltantes**\n",
        "---\n",
        "Se realizara primero el analisis de los datos faltantes tanto como por filas y columnas, y se estimara la mejor imputacion para seguir analisando el dataset, ya que si se continua trabajando el dataset con datos faltantes afectara de manera negativa los resultados."
      ]
    },
    {
      "cell_type": "code",
      "metadata": {
        "colab": {
          "base_uri": "https://localhost:8080/",
          "height": 357
        },
        "id": "fUXVqAVsyoD4",
        "outputId": "5781a06b-39bc-44e3-b1b2-2ca0db3dfb44"
      },
      "source": [
        "ibmdata.isnull().values.any()# se comprueba de que existan datos faltantes=True\n",
        "filas_faltantes=ibmdata[pd.isnull(ibmdata).any(axis=1)]# crea la matriz solo con filas donde exista datos faltantes \n",
        "columnas_faltantes=ibmdata.isnull().any()\n",
        "filas_faltantes"
      ],
      "execution_count": null,
      "outputs": [
        {
          "output_type": "execute_result",
          "data": {
            "text/html": [
              "<div>\n",
              "<style scoped>\n",
              "    .dataframe tbody tr th:only-of-type {\n",
              "        vertical-align: middle;\n",
              "    }\n",
              "\n",
              "    .dataframe tbody tr th {\n",
              "        vertical-align: top;\n",
              "    }\n",
              "\n",
              "    .dataframe thead th {\n",
              "        text-align: right;\n",
              "    }\n",
              "</style>\n",
              "<table border=\"1\" class=\"dataframe\">\n",
              "  <thead>\n",
              "    <tr style=\"text-align: right;\">\n",
              "      <th></th>\n",
              "      <th>Age</th>\n",
              "      <th>Attrition</th>\n",
              "      <th>BusinessTravel</th>\n",
              "      <th>DailyRate</th>\n",
              "      <th>Department</th>\n",
              "      <th>DistanceFromHome</th>\n",
              "      <th>Education</th>\n",
              "      <th>EducationField</th>\n",
              "      <th>EmployeeNumber</th>\n",
              "      <th>EnvironmentSatisfaction</th>\n",
              "      <th>Gender</th>\n",
              "      <th>HourlyRate</th>\n",
              "      <th>JobInvolvement</th>\n",
              "      <th>JobLevel</th>\n",
              "      <th>JobRole</th>\n",
              "      <th>JobSatisfaction</th>\n",
              "      <th>MaritalStatus</th>\n",
              "      <th>MonthlyIncome</th>\n",
              "      <th>NumCompaniesWorked</th>\n",
              "      <th>Over18</th>\n",
              "      <th>OverTime</th>\n",
              "      <th>PercentSalaryHike</th>\n",
              "      <th>PerformanceRating</th>\n",
              "      <th>RelationshipSatisfaction</th>\n",
              "      <th>StockOptionLevel</th>\n",
              "      <th>TotalWorkingYears</th>\n",
              "      <th>TrainingTimesLastYear</th>\n",
              "      <th>WorkLifeBalance</th>\n",
              "      <th>YearsAtCompany</th>\n",
              "      <th>YearsInCurrentRole</th>\n",
              "      <th>YearsSinceLastPromotion</th>\n",
              "      <th>YearsWithCurrManager</th>\n",
              "    </tr>\n",
              "  </thead>\n",
              "  <tbody>\n",
              "    <tr>\n",
              "      <th>1</th>\n",
              "      <td>49</td>\n",
              "      <td>0</td>\n",
              "      <td>Travel_Frequently</td>\n",
              "      <td>NaN</td>\n",
              "      <td>Research &amp; Development</td>\n",
              "      <td>8</td>\n",
              "      <td>1</td>\n",
              "      <td>Life Sciences</td>\n",
              "      <td>2</td>\n",
              "      <td>3</td>\n",
              "      <td>0</td>\n",
              "      <td>61</td>\n",
              "      <td>2</td>\n",
              "      <td>2</td>\n",
              "      <td>Research Scientist</td>\n",
              "      <td>2</td>\n",
              "      <td>Married</td>\n",
              "      <td>5130</td>\n",
              "      <td>1</td>\n",
              "      <td>Y</td>\n",
              "      <td>No</td>\n",
              "      <td>23</td>\n",
              "      <td>4</td>\n",
              "      <td>4</td>\n",
              "      <td>1</td>\n",
              "      <td>10.0</td>\n",
              "      <td>3</td>\n",
              "      <td>3</td>\n",
              "      <td>10</td>\n",
              "      <td>7</td>\n",
              "      <td>1</td>\n",
              "      <td>7</td>\n",
              "    </tr>\n",
              "    <tr>\n",
              "      <th>15</th>\n",
              "      <td>29</td>\n",
              "      <td>0</td>\n",
              "      <td>Travel_Rarely</td>\n",
              "      <td>NaN</td>\n",
              "      <td>Research &amp; Development</td>\n",
              "      <td>21</td>\n",
              "      <td>4</td>\n",
              "      <td>Life Sciences</td>\n",
              "      <td>20</td>\n",
              "      <td>2</td>\n",
              "      <td>1</td>\n",
              "      <td>51</td>\n",
              "      <td>4</td>\n",
              "      <td>3</td>\n",
              "      <td>Manufacturing Director</td>\n",
              "      <td>1</td>\n",
              "      <td>Divorced</td>\n",
              "      <td>9980</td>\n",
              "      <td>1</td>\n",
              "      <td>Y</td>\n",
              "      <td>No</td>\n",
              "      <td>11</td>\n",
              "      <td>3</td>\n",
              "      <td>3</td>\n",
              "      <td>1</td>\n",
              "      <td>10.0</td>\n",
              "      <td>1</td>\n",
              "      <td>3</td>\n",
              "      <td>10</td>\n",
              "      <td>9</td>\n",
              "      <td>8</td>\n",
              "      <td>8</td>\n",
              "    </tr>\n",
              "    <tr>\n",
              "      <th>62</th>\n",
              "      <td>50</td>\n",
              "      <td>0</td>\n",
              "      <td>Travel_Rarely</td>\n",
              "      <td>NaN</td>\n",
              "      <td>Research &amp; Development</td>\n",
              "      <td>7</td>\n",
              "      <td>2</td>\n",
              "      <td>Medical</td>\n",
              "      <td>80</td>\n",
              "      <td>2</td>\n",
              "      <td>1</td>\n",
              "      <td>43</td>\n",
              "      <td>2</td>\n",
              "      <td>5</td>\n",
              "      <td>Research Director</td>\n",
              "      <td>3</td>\n",
              "      <td>Divorced</td>\n",
              "      <td>18740</td>\n",
              "      <td>5</td>\n",
              "      <td>Y</td>\n",
              "      <td>Yes</td>\n",
              "      <td>12</td>\n",
              "      <td>3</td>\n",
              "      <td>4</td>\n",
              "      <td>1</td>\n",
              "      <td>29.0</td>\n",
              "      <td>2</td>\n",
              "      <td>2</td>\n",
              "      <td>27</td>\n",
              "      <td>3</td>\n",
              "      <td>13</td>\n",
              "      <td>8</td>\n",
              "    </tr>\n",
              "    <tr>\n",
              "      <th>818</th>\n",
              "      <td>31</td>\n",
              "      <td>0</td>\n",
              "      <td>Travel_Frequently</td>\n",
              "      <td>793.0</td>\n",
              "      <td>Sales</td>\n",
              "      <td>20</td>\n",
              "      <td>3</td>\n",
              "      <td>Life Sciences</td>\n",
              "      <td>1135</td>\n",
              "      <td>3</td>\n",
              "      <td>0</td>\n",
              "      <td>67</td>\n",
              "      <td>4</td>\n",
              "      <td>1</td>\n",
              "      <td>Sales Representative</td>\n",
              "      <td>4</td>\n",
              "      <td>Married</td>\n",
              "      <td>2791</td>\n",
              "      <td>0</td>\n",
              "      <td>Y</td>\n",
              "      <td>No</td>\n",
              "      <td>12</td>\n",
              "      <td>3</td>\n",
              "      <td>1</td>\n",
              "      <td>1</td>\n",
              "      <td>NaN</td>\n",
              "      <td>4</td>\n",
              "      <td>3</td>\n",
              "      <td>2</td>\n",
              "      <td>2</td>\n",
              "      <td>2</td>\n",
              "      <td>2</td>\n",
              "    </tr>\n",
              "    <tr>\n",
              "      <th>868</th>\n",
              "      <td>28</td>\n",
              "      <td>0</td>\n",
              "      <td>Travel_Rarely</td>\n",
              "      <td>1179.0</td>\n",
              "      <td>Research &amp; Development</td>\n",
              "      <td>19</td>\n",
              "      <td>4</td>\n",
              "      <td>Medical</td>\n",
              "      <td>1216</td>\n",
              "      <td>4</td>\n",
              "      <td>0</td>\n",
              "      <td>78</td>\n",
              "      <td>2</td>\n",
              "      <td>1</td>\n",
              "      <td>Laboratory Technician</td>\n",
              "      <td>1</td>\n",
              "      <td>Married</td>\n",
              "      <td>3196</td>\n",
              "      <td>1</td>\n",
              "      <td>Y</td>\n",
              "      <td>No</td>\n",
              "      <td>12</td>\n",
              "      <td>3</td>\n",
              "      <td>3</td>\n",
              "      <td>3</td>\n",
              "      <td>NaN</td>\n",
              "      <td>2</td>\n",
              "      <td>3</td>\n",
              "      <td>6</td>\n",
              "      <td>5</td>\n",
              "      <td>3</td>\n",
              "      <td>3</td>\n",
              "    </tr>\n",
              "    <tr>\n",
              "      <th>1430</th>\n",
              "      <td>38</td>\n",
              "      <td>0</td>\n",
              "      <td>Travel_Rarely</td>\n",
              "      <td>201.0</td>\n",
              "      <td>Research &amp; Development</td>\n",
              "      <td>10</td>\n",
              "      <td>3</td>\n",
              "      <td>Medical</td>\n",
              "      <td>2015</td>\n",
              "      <td>2</td>\n",
              "      <td>1</td>\n",
              "      <td>99</td>\n",
              "      <td>1</td>\n",
              "      <td>3</td>\n",
              "      <td>Research Director</td>\n",
              "      <td>3</td>\n",
              "      <td>Married</td>\n",
              "      <td>13206</td>\n",
              "      <td>3</td>\n",
              "      <td>Y</td>\n",
              "      <td>No</td>\n",
              "      <td>12</td>\n",
              "      <td>3</td>\n",
              "      <td>1</td>\n",
              "      <td>1</td>\n",
              "      <td>NaN</td>\n",
              "      <td>3</td>\n",
              "      <td>3</td>\n",
              "      <td>18</td>\n",
              "      <td>16</td>\n",
              "      <td>1</td>\n",
              "      <td>11</td>\n",
              "    </tr>\n",
              "  </tbody>\n",
              "</table>\n",
              "</div>"
            ],
            "text/plain": [
              "      Age  Attrition  ... YearsSinceLastPromotion  YearsWithCurrManager\n",
              "1      49          0  ...                       1                     7\n",
              "15     29          0  ...                       8                     8\n",
              "62     50          0  ...                      13                     8\n",
              "818    31          0  ...                       2                     2\n",
              "868    28          0  ...                       3                     3\n",
              "1430   38          0  ...                       1                    11\n",
              "\n",
              "[6 rows x 32 columns]"
            ]
          },
          "metadata": {
            "tags": []
          },
          "execution_count": 407
        }
      ]
    },
    {
      "cell_type": "markdown",
      "metadata": {
        "id": "icr6X_y0AUSp"
      },
      "source": [
        "Ya detectamos donde se encuentran los datos faltantes,para la imputacion de  **`DailyRate`** como observamos anteriormente en las graficas que las ganancias de los empleados estan altamente relacionadas con los puestos de trabajo se imputaran bajo esa medida. \n",
        "Para la etiqueta **`TotalWorkingYears`** se realizaran grupos segun rangos de **`MonthlyIncome`** esto debido a la relacion de las variables vistas en el grafico de correlacion. \n",
        " \n"
      ]
    },
    {
      "cell_type": "code",
      "metadata": {
        "colab": {
          "base_uri": "https://localhost:8080/",
          "height": 255
        },
        "id": "1vCsjx21RCi3",
        "outputId": "658c4609-8079-471b-c831-3ffee8fe0154"
      },
      "source": [
        "ub_joblevel=ibmdata.groupby('JobLevel').mean()# se crea subgrupo indicando la media segun cada grupo \n",
        "ub_joblevel"
      ],
      "execution_count": null,
      "outputs": [
        {
          "output_type": "execute_result",
          "data": {
            "text/html": [
              "<div>\n",
              "<style scoped>\n",
              "    .dataframe tbody tr th:only-of-type {\n",
              "        vertical-align: middle;\n",
              "    }\n",
              "\n",
              "    .dataframe tbody tr th {\n",
              "        vertical-align: top;\n",
              "    }\n",
              "\n",
              "    .dataframe thead th {\n",
              "        text-align: right;\n",
              "    }\n",
              "</style>\n",
              "<table border=\"1\" class=\"dataframe\">\n",
              "  <thead>\n",
              "    <tr style=\"text-align: right;\">\n",
              "      <th></th>\n",
              "      <th>Age</th>\n",
              "      <th>Attrition</th>\n",
              "      <th>DailyRate</th>\n",
              "      <th>DistanceFromHome</th>\n",
              "      <th>Education</th>\n",
              "      <th>EmployeeNumber</th>\n",
              "      <th>EnvironmentSatisfaction</th>\n",
              "      <th>Gender</th>\n",
              "      <th>HourlyRate</th>\n",
              "      <th>JobInvolvement</th>\n",
              "      <th>JobSatisfaction</th>\n",
              "      <th>MonthlyIncome</th>\n",
              "      <th>NumCompaniesWorked</th>\n",
              "      <th>PercentSalaryHike</th>\n",
              "      <th>PerformanceRating</th>\n",
              "      <th>RelationshipSatisfaction</th>\n",
              "      <th>StockOptionLevel</th>\n",
              "      <th>TotalWorkingYears</th>\n",
              "      <th>TrainingTimesLastYear</th>\n",
              "      <th>WorkLifeBalance</th>\n",
              "      <th>YearsAtCompany</th>\n",
              "      <th>YearsInCurrentRole</th>\n",
              "      <th>YearsSinceLastPromotion</th>\n",
              "      <th>YearsWithCurrManager</th>\n",
              "    </tr>\n",
              "    <tr>\n",
              "      <th>JobLevel</th>\n",
              "      <th></th>\n",
              "      <th></th>\n",
              "      <th></th>\n",
              "      <th></th>\n",
              "      <th></th>\n",
              "      <th></th>\n",
              "      <th></th>\n",
              "      <th></th>\n",
              "      <th></th>\n",
              "      <th></th>\n",
              "      <th></th>\n",
              "      <th></th>\n",
              "      <th></th>\n",
              "      <th></th>\n",
              "      <th></th>\n",
              "      <th></th>\n",
              "      <th></th>\n",
              "      <th></th>\n",
              "      <th></th>\n",
              "      <th></th>\n",
              "      <th></th>\n",
              "      <th></th>\n",
              "      <th></th>\n",
              "      <th></th>\n",
              "    </tr>\n",
              "  </thead>\n",
              "  <tbody>\n",
              "    <tr>\n",
              "      <th>1</th>\n",
              "      <td>32.524862</td>\n",
              "      <td>0.263352</td>\n",
              "      <td>803.848987</td>\n",
              "      <td>8.631676</td>\n",
              "      <td>2.751381</td>\n",
              "      <td>1017.815838</td>\n",
              "      <td>2.718232</td>\n",
              "      <td>0.366483</td>\n",
              "      <td>66.756906</td>\n",
              "      <td>2.744015</td>\n",
              "      <td>2.718232</td>\n",
              "      <td>2786.915285</td>\n",
              "      <td>2.241252</td>\n",
              "      <td>15.305709</td>\n",
              "      <td>3.162063</td>\n",
              "      <td>2.721915</td>\n",
              "      <td>0.745856</td>\n",
              "      <td>5.896488</td>\n",
              "      <td>2.808471</td>\n",
              "      <td>2.714549</td>\n",
              "      <td>3.931860</td>\n",
              "      <td>2.513812</td>\n",
              "      <td>1.193370</td>\n",
              "      <td>2.476980</td>\n",
              "    </tr>\n",
              "    <tr>\n",
              "      <th>2</th>\n",
              "      <td>36.599251</td>\n",
              "      <td>0.097378</td>\n",
              "      <td>794.819887</td>\n",
              "      <td>9.683521</td>\n",
              "      <td>2.985019</td>\n",
              "      <td>1058.640449</td>\n",
              "      <td>2.739700</td>\n",
              "      <td>0.411985</td>\n",
              "      <td>65.769663</td>\n",
              "      <td>2.730337</td>\n",
              "      <td>2.758427</td>\n",
              "      <td>5502.277154</td>\n",
              "      <td>2.829588</td>\n",
              "      <td>15.205993</td>\n",
              "      <td>3.149813</td>\n",
              "      <td>2.674157</td>\n",
              "      <td>0.838951</td>\n",
              "      <td>10.423221</td>\n",
              "      <td>2.814607</td>\n",
              "      <td>2.790262</td>\n",
              "      <td>6.752809</td>\n",
              "      <td>4.456929</td>\n",
              "      <td>1.885768</td>\n",
              "      <td>4.464419</td>\n",
              "    </tr>\n",
              "    <tr>\n",
              "      <th>3</th>\n",
              "      <td>40.087156</td>\n",
              "      <td>0.146789</td>\n",
              "      <td>827.184332</td>\n",
              "      <td>9.770642</td>\n",
              "      <td>3.013761</td>\n",
              "      <td>968.477064</td>\n",
              "      <td>2.660550</td>\n",
              "      <td>0.431193</td>\n",
              "      <td>64.188073</td>\n",
              "      <td>2.669725</td>\n",
              "      <td>2.678899</td>\n",
              "      <td>9817.252294</td>\n",
              "      <td>2.963303</td>\n",
              "      <td>15.197248</td>\n",
              "      <td>3.151376</td>\n",
              "      <td>2.688073</td>\n",
              "      <td>0.825688</td>\n",
              "      <td>15.096774</td>\n",
              "      <td>2.844037</td>\n",
              "      <td>2.793578</td>\n",
              "      <td>9.380734</td>\n",
              "      <td>6.114679</td>\n",
              "      <td>3.353211</td>\n",
              "      <td>5.600917</td>\n",
              "    </tr>\n",
              "    <tr>\n",
              "      <th>4</th>\n",
              "      <td>47.537736</td>\n",
              "      <td>0.047170</td>\n",
              "      <td>774.452830</td>\n",
              "      <td>10.226415</td>\n",
              "      <td>3.122642</td>\n",
              "      <td>1061.830189</td>\n",
              "      <td>2.754717</td>\n",
              "      <td>0.481132</td>\n",
              "      <td>65.679245</td>\n",
              "      <td>2.820755</td>\n",
              "      <td>2.726415</td>\n",
              "      <td>15503.783019</td>\n",
              "      <td>3.320755</td>\n",
              "      <td>15.292453</td>\n",
              "      <td>3.169811</td>\n",
              "      <td>2.830189</td>\n",
              "      <td>0.783019</td>\n",
              "      <td>25.471698</td>\n",
              "      <td>2.556604</td>\n",
              "      <td>2.735849</td>\n",
              "      <td>13.886792</td>\n",
              "      <td>6.537736</td>\n",
              "      <td>4.839623</td>\n",
              "      <td>6.075472</td>\n",
              "    </tr>\n",
              "    <tr>\n",
              "      <th>5</th>\n",
              "      <td>47.753623</td>\n",
              "      <td>0.072464</td>\n",
              "      <td>812.897059</td>\n",
              "      <td>6.391304</td>\n",
              "      <td>2.985507</td>\n",
              "      <td>940.318841</td>\n",
              "      <td>2.753623</td>\n",
              "      <td>0.347826</td>\n",
              "      <td>65.724638</td>\n",
              "      <td>2.666667</td>\n",
              "      <td>2.739130</td>\n",
              "      <td>19191.826087</td>\n",
              "      <td>3.376812</td>\n",
              "      <td>14.391304</td>\n",
              "      <td>3.101449</td>\n",
              "      <td>2.826087</td>\n",
              "      <td>0.739130</td>\n",
              "      <td>26.376812</td>\n",
              "      <td>2.840580</td>\n",
              "      <td>2.840580</td>\n",
              "      <td>15.130435</td>\n",
              "      <td>6.463768</td>\n",
              "      <td>4.594203</td>\n",
              "      <td>6.768116</td>\n",
              "    </tr>\n",
              "  </tbody>\n",
              "</table>\n",
              "</div>"
            ],
            "text/plain": [
              "                Age  Attrition  ...  YearsSinceLastPromotion  YearsWithCurrManager\n",
              "JobLevel                        ...                                               \n",
              "1         32.524862   0.263352  ...                 1.193370              2.476980\n",
              "2         36.599251   0.097378  ...                 1.885768              4.464419\n",
              "3         40.087156   0.146789  ...                 3.353211              5.600917\n",
              "4         47.537736   0.047170  ...                 4.839623              6.075472\n",
              "5         47.753623   0.072464  ...                 4.594203              6.768116\n",
              "\n",
              "[5 rows x 24 columns]"
            ]
          },
          "metadata": {
            "tags": []
          },
          "execution_count": 408
        }
      ]
    },
    {
      "cell_type": "code",
      "metadata": {
        "colab": {
          "base_uri": "https://localhost:8080/"
        },
        "id": "DlHaI7eCAQVT",
        "outputId": "0cfa76b9-4b59-4e90-ba63-8f60ad4a21b4"
      },
      "source": [
        "# se le asigan el valor a los datos faltantes \n",
        "ub_joblevel=ibmdata.groupby('JobLevel').mean()\n",
        "ibmdata.iloc[1,3]=sub_joblevel.iloc[1,2]\n",
        "ibmdata.iloc[15,3]=sub_joblevel.iloc[2,2]\n",
        "ibmdata.iloc[62,3]=sub_joblevel.iloc[4,2]\n",
        "ibmdata.iloc[868,25]=sub_joblevel.iloc[0,17]\n",
        "ibmdata.iloc[818,25]=sub_joblevel.iloc[0,17]\n",
        "ibmdata.iloc[1430,25]=sub_joblevel.iloc[2,17]\n",
        "ibmdata.isnull().values.any()"
      ],
      "execution_count": null,
      "outputs": [
        {
          "output_type": "execute_result",
          "data": {
            "text/plain": [
              "False"
            ]
          },
          "metadata": {
            "tags": []
          },
          "execution_count": 409
        }
      ]
    },
    {
      "cell_type": "markdown",
      "metadata": {
        "id": "IK4HFagNQ5vQ"
      },
      "source": [
        "###**Agrupaciones**\n",
        "---\n",
        "A continuación realizaremos algunas agrupaciones para observar caracteristicas que no se pueden observar a simple vista con el conjunto de datos completo, a partir de este podremos tener diferentes perspectivas y sacar algunos datos relevantes. "
      ]
    },
    {
      "cell_type": "code",
      "metadata": {
        "colab": {
          "base_uri": "https://localhost:8080/",
          "height": 309
        },
        "id": "HkoeIQr-RjrC",
        "outputId": "f507aa0c-fe02-4d10-870b-3f5200834d89"
      },
      "source": [
        "abandona_media=ibmdata.groupby('Attrition').mean() # subgrupo indicando la media de cada dato dependiendo si renuncio o no.\n",
        "abandona=ibmdata.loc[ibmdata['Attrition']==1] # subgrupo que abandona la empresa \n",
        "queda=ibmdata.loc[ibmdata['Attrition']==0] # subgrupo que se queda en la empresa \n",
        "abandona.head()"
      ],
      "execution_count": null,
      "outputs": [
        {
          "output_type": "execute_result",
          "data": {
            "text/html": [
              "<div>\n",
              "<style scoped>\n",
              "    .dataframe tbody tr th:only-of-type {\n",
              "        vertical-align: middle;\n",
              "    }\n",
              "\n",
              "    .dataframe tbody tr th {\n",
              "        vertical-align: top;\n",
              "    }\n",
              "\n",
              "    .dataframe thead th {\n",
              "        text-align: right;\n",
              "    }\n",
              "</style>\n",
              "<table border=\"1\" class=\"dataframe\">\n",
              "  <thead>\n",
              "    <tr style=\"text-align: right;\">\n",
              "      <th></th>\n",
              "      <th>Age</th>\n",
              "      <th>Attrition</th>\n",
              "      <th>BusinessTravel</th>\n",
              "      <th>DailyRate</th>\n",
              "      <th>Department</th>\n",
              "      <th>DistanceFromHome</th>\n",
              "      <th>Education</th>\n",
              "      <th>EducationField</th>\n",
              "      <th>EmployeeNumber</th>\n",
              "      <th>EnvironmentSatisfaction</th>\n",
              "      <th>Gender</th>\n",
              "      <th>HourlyRate</th>\n",
              "      <th>JobInvolvement</th>\n",
              "      <th>JobLevel</th>\n",
              "      <th>JobRole</th>\n",
              "      <th>JobSatisfaction</th>\n",
              "      <th>MaritalStatus</th>\n",
              "      <th>MonthlyIncome</th>\n",
              "      <th>NumCompaniesWorked</th>\n",
              "      <th>Over18</th>\n",
              "      <th>OverTime</th>\n",
              "      <th>PercentSalaryHike</th>\n",
              "      <th>PerformanceRating</th>\n",
              "      <th>RelationshipSatisfaction</th>\n",
              "      <th>StockOptionLevel</th>\n",
              "      <th>TotalWorkingYears</th>\n",
              "      <th>TrainingTimesLastYear</th>\n",
              "      <th>WorkLifeBalance</th>\n",
              "      <th>YearsAtCompany</th>\n",
              "      <th>YearsInCurrentRole</th>\n",
              "      <th>YearsSinceLastPromotion</th>\n",
              "      <th>YearsWithCurrManager</th>\n",
              "    </tr>\n",
              "  </thead>\n",
              "  <tbody>\n",
              "    <tr>\n",
              "      <th>0</th>\n",
              "      <td>41</td>\n",
              "      <td>1</td>\n",
              "      <td>Travel_Rarely</td>\n",
              "      <td>1102.0</td>\n",
              "      <td>Sales</td>\n",
              "      <td>1</td>\n",
              "      <td>2</td>\n",
              "      <td>Life Sciences</td>\n",
              "      <td>1</td>\n",
              "      <td>2</td>\n",
              "      <td>1</td>\n",
              "      <td>94</td>\n",
              "      <td>3</td>\n",
              "      <td>2</td>\n",
              "      <td>Sales Executive</td>\n",
              "      <td>4</td>\n",
              "      <td>Single</td>\n",
              "      <td>5993</td>\n",
              "      <td>8</td>\n",
              "      <td>Y</td>\n",
              "      <td>Yes</td>\n",
              "      <td>11</td>\n",
              "      <td>3</td>\n",
              "      <td>1</td>\n",
              "      <td>0</td>\n",
              "      <td>8.0</td>\n",
              "      <td>0</td>\n",
              "      <td>1</td>\n",
              "      <td>6</td>\n",
              "      <td>4</td>\n",
              "      <td>0</td>\n",
              "      <td>5</td>\n",
              "    </tr>\n",
              "    <tr>\n",
              "      <th>2</th>\n",
              "      <td>37</td>\n",
              "      <td>1</td>\n",
              "      <td>Travel_Rarely</td>\n",
              "      <td>1373.0</td>\n",
              "      <td>Research &amp; Development</td>\n",
              "      <td>2</td>\n",
              "      <td>2</td>\n",
              "      <td>Other</td>\n",
              "      <td>4</td>\n",
              "      <td>4</td>\n",
              "      <td>0</td>\n",
              "      <td>92</td>\n",
              "      <td>2</td>\n",
              "      <td>1</td>\n",
              "      <td>Laboratory Technician</td>\n",
              "      <td>3</td>\n",
              "      <td>Single</td>\n",
              "      <td>2090</td>\n",
              "      <td>6</td>\n",
              "      <td>Y</td>\n",
              "      <td>Yes</td>\n",
              "      <td>15</td>\n",
              "      <td>3</td>\n",
              "      <td>2</td>\n",
              "      <td>0</td>\n",
              "      <td>7.0</td>\n",
              "      <td>3</td>\n",
              "      <td>3</td>\n",
              "      <td>0</td>\n",
              "      <td>0</td>\n",
              "      <td>0</td>\n",
              "      <td>0</td>\n",
              "    </tr>\n",
              "    <tr>\n",
              "      <th>14</th>\n",
              "      <td>28</td>\n",
              "      <td>1</td>\n",
              "      <td>Travel_Rarely</td>\n",
              "      <td>103.0</td>\n",
              "      <td>Research &amp; Development</td>\n",
              "      <td>24</td>\n",
              "      <td>3</td>\n",
              "      <td>Life Sciences</td>\n",
              "      <td>19</td>\n",
              "      <td>3</td>\n",
              "      <td>0</td>\n",
              "      <td>50</td>\n",
              "      <td>2</td>\n",
              "      <td>1</td>\n",
              "      <td>Laboratory Technician</td>\n",
              "      <td>3</td>\n",
              "      <td>Single</td>\n",
              "      <td>2028</td>\n",
              "      <td>5</td>\n",
              "      <td>Y</td>\n",
              "      <td>Yes</td>\n",
              "      <td>14</td>\n",
              "      <td>3</td>\n",
              "      <td>2</td>\n",
              "      <td>0</td>\n",
              "      <td>6.0</td>\n",
              "      <td>4</td>\n",
              "      <td>3</td>\n",
              "      <td>4</td>\n",
              "      <td>2</td>\n",
              "      <td>0</td>\n",
              "      <td>3</td>\n",
              "    </tr>\n",
              "    <tr>\n",
              "      <th>21</th>\n",
              "      <td>36</td>\n",
              "      <td>1</td>\n",
              "      <td>Travel_Rarely</td>\n",
              "      <td>1218.0</td>\n",
              "      <td>Sales</td>\n",
              "      <td>9</td>\n",
              "      <td>4</td>\n",
              "      <td>Life Sciences</td>\n",
              "      <td>27</td>\n",
              "      <td>3</td>\n",
              "      <td>0</td>\n",
              "      <td>82</td>\n",
              "      <td>2</td>\n",
              "      <td>1</td>\n",
              "      <td>Sales Representative</td>\n",
              "      <td>1</td>\n",
              "      <td>Single</td>\n",
              "      <td>3407</td>\n",
              "      <td>7</td>\n",
              "      <td>Y</td>\n",
              "      <td>No</td>\n",
              "      <td>23</td>\n",
              "      <td>4</td>\n",
              "      <td>2</td>\n",
              "      <td>0</td>\n",
              "      <td>10.0</td>\n",
              "      <td>4</td>\n",
              "      <td>3</td>\n",
              "      <td>5</td>\n",
              "      <td>3</td>\n",
              "      <td>0</td>\n",
              "      <td>3</td>\n",
              "    </tr>\n",
              "    <tr>\n",
              "      <th>24</th>\n",
              "      <td>34</td>\n",
              "      <td>1</td>\n",
              "      <td>Travel_Rarely</td>\n",
              "      <td>699.0</td>\n",
              "      <td>Research &amp; Development</td>\n",
              "      <td>6</td>\n",
              "      <td>1</td>\n",
              "      <td>Medical</td>\n",
              "      <td>31</td>\n",
              "      <td>2</td>\n",
              "      <td>0</td>\n",
              "      <td>83</td>\n",
              "      <td>3</td>\n",
              "      <td>1</td>\n",
              "      <td>Research Scientist</td>\n",
              "      <td>1</td>\n",
              "      <td>Single</td>\n",
              "      <td>2960</td>\n",
              "      <td>2</td>\n",
              "      <td>Y</td>\n",
              "      <td>No</td>\n",
              "      <td>11</td>\n",
              "      <td>3</td>\n",
              "      <td>3</td>\n",
              "      <td>0</td>\n",
              "      <td>8.0</td>\n",
              "      <td>2</td>\n",
              "      <td>3</td>\n",
              "      <td>4</td>\n",
              "      <td>2</td>\n",
              "      <td>1</td>\n",
              "      <td>3</td>\n",
              "    </tr>\n",
              "  </tbody>\n",
              "</table>\n",
              "</div>"
            ],
            "text/plain": [
              "    Age  Attrition  ... YearsSinceLastPromotion  YearsWithCurrManager\n",
              "0    41          1  ...                       0                     5\n",
              "2    37          1  ...                       0                     0\n",
              "14   28          1  ...                       0                     3\n",
              "21   36          1  ...                       0                     3\n",
              "24   34          1  ...                       1                     3\n",
              "\n",
              "[5 rows x 32 columns]"
            ]
          },
          "metadata": {
            "tags": []
          },
          "execution_count": 410
        }
      ]
    },
    {
      "cell_type": "code",
      "metadata": {
        "colab": {
          "base_uri": "https://localhost:8080/"
        },
        "id": "EIsMuK7dUs0f",
        "outputId": "2a0f1b01-dde8-485d-8cdc-7a18488e8a7d"
      },
      "source": [
        "abandona_media.std() # desviacion estadar entre el grupo que abandona la empresa y que se queda en la empresa "
      ],
      "execution_count": null,
      "outputs": [
        {
          "output_type": "execute_result",
          "data": {
            "text/plain": [
              "Age                            2.795644\n",
              "DailyRate                     43.813370\n",
              "DistanceFromHome               1.214285\n",
              "Education                      0.061762\n",
              "EmployeeNumber                12.240112\n",
              "EnvironmentSatisfaction        0.217191\n",
              "Gender                         0.027745\n",
              "HourlyRate                     0.267505\n",
              "JobInvolvement                 0.177831\n",
              "JobLevel                       0.359815\n",
              "JobSatisfaction                0.219369\n",
              "MonthlyIncome               1446.490747\n",
              "NumCompaniesWorked             0.208843\n",
              "PercentSalaryHike              0.094821\n",
              "PerformanceRating              0.002004\n",
              "RelationshipSatisfaction       0.095336\n",
              "StockOptionLevel               0.224625\n",
              "TotalWorkingYears              2.557251\n",
              "TrainingTimesLastYear          0.147400\n",
              "WorkLifeBalance                0.086829\n",
              "YearsAtCompany                 1.582658\n",
              "YearsInCurrentRole             1.118099\n",
              "YearsSinceLastPromotion        0.204524\n",
              "YearsWithCurrManager           1.071320\n",
              "dtype: float64"
            ]
          },
          "metadata": {
            "tags": []
          },
          "execution_count": 411
        }
      ]
    },
    {
      "cell_type": "markdown",
      "metadata": {
        "id": "58aI4C9OVfbu"
      },
      "source": [
        "El resultado de la desviacion estandar por grupos de abandonaron o no, nos indica cuales son las etiquetas que mas difieren las personas que siguen trabajando y las personas que abandonaron el trabajo, resaltando el ingreso mensual la cantidad de empleados que habia en ese momento, la edad, cuantos años lleva en la compañia, cuantos años lleva en el rol actual y con el gerente actual. "
      ]
    },
    {
      "cell_type": "code",
      "metadata": {
        "colab": {
          "base_uri": "https://localhost:8080/"
        },
        "id": "o-91w7nnXB-A",
        "outputId": "e9a2d2cb-e439-4a6f-c9c0-d1c213e52aeb"
      },
      "source": [
        "seleccion=ibmdata.loc[ibmdata['Gender']==1] # se vrea el subgrupo de mujeres \n",
        "mujer_hombre=ibmdata.groupby('Gender').mean()\n",
        "mujer_hombre.std()"
      ],
      "execution_count": null,
      "outputs": [
        {
          "output_type": "execute_result",
          "data": {
            "text/plain": [
              "Age                           0.478620\n",
              "Attrition                     0.015633\n",
              "DailyRate                     5.520405\n",
              "DistanceFromHome              0.021646\n",
              "Education                     0.024452\n",
              "EmployeeNumber               19.593352\n",
              "EnvironmentSatisfaction       0.000802\n",
              "HourlyRate                    0.014030\n",
              "JobInvolvement                0.018439\n",
              "JobLevel                      0.062934\n",
              "JobSatisfaction               0.052913\n",
              "MonthlyIncome               216.415963\n",
              "NumCompaniesWorked            0.141101\n",
              "PercentSalaryHike             0.014431\n",
              "PerformanceRating             0.007215\n",
              "RelationshipSatisfaction      0.035676\n",
              "StockOptionLevel              0.015633\n",
              "TotalWorkingYears             0.518186\n",
              "TrainingTimesLastYear         0.072154\n",
              "WorkLifeBalance               0.002806\n",
              "YearsAtCompany                0.262960\n",
              "YearsInCurrentRole            0.216862\n",
              "YearsSinceLastPromotion       0.125467\n",
              "YearsWithCurrManager          0.157536\n",
              "dtype: float64"
            ]
          },
          "metadata": {
            "tags": []
          },
          "execution_count": 412
        }
      ]
    },
    {
      "cell_type": "markdown",
      "metadata": {
        "id": "7TnC-hN7ZYwB"
      },
      "source": [
        "Segun los datos anteriores comparando las diferencias de etiquetas segun su genero, encontramos que la unica diferencia se encuentra en el salario. "
      ]
    },
    {
      "cell_type": "markdown",
      "metadata": {
        "id": "lVQe13nhez3U"
      },
      "source": [
        "###**Pruebas de Normalidad**\n",
        "---"
      ]
    },
    {
      "cell_type": "code",
      "metadata": {
        "colab": {
          "base_uri": "https://localhost:8080/",
          "height": 481
        },
        "id": "giu2J4VAaPyT",
        "outputId": "58b327c8-0ed9-41ec-f114-74310599eefd"
      },
      "source": [
        "datos=ibmdata['Age']\n",
        "pyplot.hist(datos,bins=15)"
      ],
      "execution_count": null,
      "outputs": [
        {
          "output_type": "execute_result",
          "data": {
            "text/plain": [
              "(array([ 28.,  43.,  91., 164., 129., 196., 197., 157., 118.,  74.,  76.,\n",
              "         73.,  55.,  40.,  29.]),\n",
              " array([18. , 20.8, 23.6, 26.4, 29.2, 32. , 34.8, 37.6, 40.4, 43.2, 46. ,\n",
              "        48.8, 51.6, 54.4, 57.2, 60. ]),\n",
              " <a list of 15 Patch objects>)"
            ]
          },
          "metadata": {
            "tags": []
          },
          "execution_count": 413
        },
        {
          "output_type": "display_data",
          "data": {
            "image/png": "[encoded data removed]",
            "text/plain": [
              "<Figure size 660x440 with 1 Axes>"
            ]
          },
          "metadata": {
            "tags": [],
            "needs_background": "light"
          }
        }
      ]
    },
    {
      "cell_type": "code",
      "metadata": {
        "colab": {
          "base_uri": "https://localhost:8080/",
          "height": 418
        },
        "id": "8L9oaNmih20I",
        "outputId": "1621f66b-0394-4c33-f307-d6b316d43a62"
      },
      "source": [
        "qqplot(datos , line='s')\n",
        "plt.show()\n"
      ],
      "execution_count": null,
      "outputs": [
        {
          "output_type": "display_data",
          "data": {
            "image/png": "[encoded data removed]",
            "text/plain": [
              "<Figure size 660x440 with 1 Axes>"
            ]
          },
          "metadata": {
            "tags": [],
            "needs_background": "light"
          }
        }
      ]
    },
    {
      "cell_type": "code",
      "metadata": {
        "colab": {
          "base_uri": "https://localhost:8080/"
        },
        "id": "aDf2GjhUiwDO",
        "outputId": "22816447-533f-42fd-ee8c-793c73bddb7b"
      },
      "source": [
        "stat, p = shapiro(datos)\n",
        "print((stat, p))\n",
        "# Interpretación\n",
        "alpha = 0.05\n",
        "if p > alpha:\n",
        "   print('La muestra parece Gaussiana o Normal (no se rechaza la hipótesis nula H0)')\n",
        "else:\n",
        "   print('La muestra no parece Gaussiana o Normal(se rechaza la hipótesis nula H0)')\n"
      ],
      "execution_count": null,
      "outputs": [
        {
          "output_type": "stream",
          "text": [
            "(0.9774479269981384, 2.0348782405724304e-14)\n",
            "La muestra no parece Gaussiana o Normal(se rechaza la hipótesis nula H0)\n"
          ],
          "name": "stdout"
        }
      ]
    },
    {
      "cell_type": "code",
      "metadata": {
        "colab": {
          "base_uri": "https://localhost:8080/"
        },
        "id": "IHgX-yF7mWIO",
        "outputId": "d75ecb6d-9bb2-4b19-e38d-c316ae98555e"
      },
      "source": [
        "media, desviacion = ss.norm.fit(datos)\n",
        "\n",
        "print(media) # media = 160,37\n",
        "print(desviacion) # desviacion = 17,41"
      ],
      "execution_count": null,
      "outputs": [
        {
          "output_type": "stream",
          "text": [
            "36.923809523809524\n",
            "9.132265690615387\n"
          ],
          "name": "stdout"
        }
      ]
    },
    {
      "cell_type": "markdown",
      "metadata": {
        "id": "KuuVLfOspnWP"
      },
      "source": [
        "###**Correlación**\n",
        "---\n",
        "A continuación realizaremos pruebas de correlación que compararemos para determinar resultados a partir de las comparaciones de diferentes casos\n",
        "\n",
        "se realizará una prueba de correlación de la muestra total, entre el ingreso mensual con respecto a cada etiqueta, utilizaremos el método **Spearman** para todos los casos de correlación, debido a que las variables numéricas no están normalmente distribuidas como lo determinamos en el proceso anterior"
      ]
    },
    {
      "cell_type": "code",
      "metadata": {
        "id": "t1R8UQuNvy2j"
      },
      "source": [
        "matriz_corr=ibmdata.corrwith(ibmdata['MonthlyIncome'],method='pearson')\n",
        "matriz_corr_absoluto=abs(matriz_corr)  \n",
        "arreglo1=matriz_corr_absoluto.sort_values(ascending=False)"
      ],
      "execution_count": null,
      "outputs": []
    },
    {
      "cell_type": "markdown",
      "metadata": {
        "id": "hK78khJKxmBQ"
      },
      "source": [
        "para comparar el resultado anterior realizaremos la misma correlacion pero no sobre la muestra total si no solo con las personas que abandonaron el puesto de trabajo."
      ]
    },
    {
      "cell_type": "code",
      "metadata": {
        "id": "Suy1iHsspr65"
      },
      "source": [
        "# correlacion de cada columna con respecto a el ingreso nmensual de las personas que renunciaron \n",
        "matriz_corr=abandona.corrwith(abandona['MonthlyIncome'],method='pearson')\n",
        "matriz_corr_absoluto=abs(matriz_corr)  \n",
        "arreglo2=matriz_corr_absoluto.sort_values(ascending=False)\n"
      ],
      "execution_count": null,
      "outputs": []
    },
    {
      "cell_type": "code",
      "metadata": {
        "id": "_4N0JVRiLHZk"
      },
      "source": [
        "# correlacion de cada columna con respecto a el ingreso nmensual de las personas que se quedaron\n",
        "matriz_corr=queda.corrwith(queda['MonthlyIncome'],method='pearson')\n",
        "matriz_corr_absoluto=abs(matriz_corr)  \n",
        "arreglo3=matriz_corr_absoluto.sort_values(ascending=False)\n"
      ],
      "execution_count": null,
      "outputs": []
    },
    {
      "cell_type": "markdown",
      "metadata": {
        "id": "sgG8eEnj2SJH"
      },
      "source": [
        "Ser presenta un cuadro comparativo con las dos correlaciones y un indicador si el cambio fue de subida o bajada, evidenciando que existe mayor tendencia a que la correlacion de varias etiquetas aumente si trabajamos con el subgrupo que abandonaron el puesto, es decir que se puede analizar esta diferencia e identificar si esta es la causante de la desercion en empleados. "
      ]
    },
    {
      "cell_type": "code",
      "metadata": {
        "colab": {
          "base_uri": "https://localhost:8080/",
          "height": 824
        },
        "id": "V2jY5y7zx5GD",
        "outputId": "781e20e6-454e-4b25-9007-589fd1fda639"
      },
      "source": [
        "# se crea la matriz para presentar las correlaciones y existe agun cambio\n",
        "tabla_pago=pd.concat([arreglo1,arreglo2],axis=1)\n",
        "tabla_pago\n",
        "tabla_pago['cambio']=0\n",
        "n=0\n",
        "for x in tabla_pago.iloc[:,0]:\n",
        "  if x<= tabla_pago.iloc[n,1]:\n",
        "    tabla_pago.iloc[n,2]= 'Sube'\n",
        "  else:\n",
        "    tabla_pago.iloc[n,2]= 'Baja'\n",
        "  n=n+1\n",
        "tabla_pago1=pd.concat([tabla_pago,arreglo3],axis=1)\n",
        "tabla_pago1"
      ],
      "execution_count": null,
      "outputs": [
        {
          "output_type": "execute_result",
          "data": {
            "text/html": [
              "<div>\n",
              "<style scoped>\n",
              "    .dataframe tbody tr th:only-of-type {\n",
              "        vertical-align: middle;\n",
              "    }\n",
              "\n",
              "    .dataframe tbody tr th {\n",
              "        vertical-align: top;\n",
              "    }\n",
              "\n",
              "    .dataframe thead th {\n",
              "        text-align: right;\n",
              "    }\n",
              "</style>\n",
              "<table border=\"1\" class=\"dataframe\">\n",
              "  <thead>\n",
              "    <tr style=\"text-align: right;\">\n",
              "      <th></th>\n",
              "      <th>0</th>\n",
              "      <th>1</th>\n",
              "      <th>cambio</th>\n",
              "      <th>0</th>\n",
              "    </tr>\n",
              "  </thead>\n",
              "  <tbody>\n",
              "    <tr>\n",
              "      <th>MonthlyIncome</th>\n",
              "      <td>1.000000</td>\n",
              "      <td>1.000000</td>\n",
              "      <td>Sube</td>\n",
              "      <td>1.000000</td>\n",
              "    </tr>\n",
              "    <tr>\n",
              "      <th>JobLevel</th>\n",
              "      <td>0.950300</td>\n",
              "      <td>0.945540</td>\n",
              "      <td>Baja</td>\n",
              "      <td>0.949976</td>\n",
              "    </tr>\n",
              "    <tr>\n",
              "      <th>TotalWorkingYears</th>\n",
              "      <td>0.772523</td>\n",
              "      <td>0.742277</td>\n",
              "      <td>Baja</td>\n",
              "      <td>0.771221</td>\n",
              "    </tr>\n",
              "    <tr>\n",
              "      <th>YearsAtCompany</th>\n",
              "      <td>0.514285</td>\n",
              "      <td>0.634973</td>\n",
              "      <td>Sube</td>\n",
              "      <td>0.487315</td>\n",
              "    </tr>\n",
              "    <tr>\n",
              "      <th>Age</th>\n",
              "      <td>0.497855</td>\n",
              "      <td>0.500602</td>\n",
              "      <td>Sube</td>\n",
              "      <td>0.486713</td>\n",
              "    </tr>\n",
              "    <tr>\n",
              "      <th>YearsInCurrentRole</th>\n",
              "      <td>0.363818</td>\n",
              "      <td>0.561386</td>\n",
              "      <td>Sube</td>\n",
              "      <td>0.320465</td>\n",
              "    </tr>\n",
              "    <tr>\n",
              "      <th>YearsSinceLastPromotion</th>\n",
              "      <td>0.344978</td>\n",
              "      <td>0.476264</td>\n",
              "      <td>Sube</td>\n",
              "      <td>0.327084</td>\n",
              "    </tr>\n",
              "    <tr>\n",
              "      <th>YearsWithCurrManager</th>\n",
              "      <td>0.344079</td>\n",
              "      <td>0.485162</td>\n",
              "      <td>Sube</td>\n",
              "      <td>0.307697</td>\n",
              "    </tr>\n",
              "    <tr>\n",
              "      <th>Attrition</th>\n",
              "      <td>0.159840</td>\n",
              "      <td>NaN</td>\n",
              "      <td>Baja</td>\n",
              "      <td>NaN</td>\n",
              "    </tr>\n",
              "    <tr>\n",
              "      <th>NumCompaniesWorked</th>\n",
              "      <td>0.149515</td>\n",
              "      <td>0.187627</td>\n",
              "      <td>Sube</td>\n",
              "      <td>0.155542</td>\n",
              "    </tr>\n",
              "    <tr>\n",
              "      <th>Education</th>\n",
              "      <td>0.094961</td>\n",
              "      <td>0.105162</td>\n",
              "      <td>Sube</td>\n",
              "      <td>0.089564</td>\n",
              "    </tr>\n",
              "    <tr>\n",
              "      <th>Gender</th>\n",
              "      <td>0.031858</td>\n",
              "      <td>0.003639</td>\n",
              "      <td>Baja</td>\n",
              "      <td>0.032068</td>\n",
              "    </tr>\n",
              "    <tr>\n",
              "      <th>WorkLifeBalance</th>\n",
              "      <td>0.030683</td>\n",
              "      <td>0.002965</td>\n",
              "      <td>Baja</td>\n",
              "      <td>0.024187</td>\n",
              "    </tr>\n",
              "    <tr>\n",
              "      <th>PercentSalaryHike</th>\n",
              "      <td>0.027269</td>\n",
              "      <td>0.132655</td>\n",
              "      <td>Sube</td>\n",
              "      <td>0.014584</td>\n",
              "    </tr>\n",
              "    <tr>\n",
              "      <th>RelationshipSatisfaction</th>\n",
              "      <td>0.025873</td>\n",
              "      <td>0.092321</td>\n",
              "      <td>Sube</td>\n",
              "      <td>0.007763</td>\n",
              "    </tr>\n",
              "    <tr>\n",
              "      <th>TrainingTimesLastYear</th>\n",
              "      <td>0.021736</td>\n",
              "      <td>0.106249</td>\n",
              "      <td>Sube</td>\n",
              "      <td>0.021364</td>\n",
              "    </tr>\n",
              "    <tr>\n",
              "      <th>PerformanceRating</th>\n",
              "      <td>0.017120</td>\n",
              "      <td>0.126633</td>\n",
              "      <td>Sube</td>\n",
              "      <td>0.000935</td>\n",
              "    </tr>\n",
              "    <tr>\n",
              "      <th>DistanceFromHome</th>\n",
              "      <td>0.017014</td>\n",
              "      <td>0.038948</td>\n",
              "      <td>Sube</td>\n",
              "      <td>0.011321</td>\n",
              "    </tr>\n",
              "    <tr>\n",
              "      <th>HourlyRate</th>\n",
              "      <td>0.015794</td>\n",
              "      <td>0.018204</td>\n",
              "      <td>Sube</td>\n",
              "      <td>0.022225</td>\n",
              "    </tr>\n",
              "    <tr>\n",
              "      <th>JobInvolvement</th>\n",
              "      <td>0.015271</td>\n",
              "      <td>0.008321</td>\n",
              "      <td>Baja</td>\n",
              "      <td>0.041844</td>\n",
              "    </tr>\n",
              "    <tr>\n",
              "      <th>EmployeeNumber</th>\n",
              "      <td>0.014829</td>\n",
              "      <td>0.000209</td>\n",
              "      <td>Baja</td>\n",
              "      <td>0.019142</td>\n",
              "    </tr>\n",
              "    <tr>\n",
              "      <th>JobSatisfaction</th>\n",
              "      <td>0.007157</td>\n",
              "      <td>0.004767</td>\n",
              "      <td>Baja</td>\n",
              "      <td>0.028556</td>\n",
              "    </tr>\n",
              "    <tr>\n",
              "      <th>EnvironmentSatisfaction</th>\n",
              "      <td>0.006259</td>\n",
              "      <td>0.089457</td>\n",
              "      <td>Sube</td>\n",
              "      <td>0.012947</td>\n",
              "    </tr>\n",
              "    <tr>\n",
              "      <th>DailyRate</th>\n",
              "      <td>0.005989</td>\n",
              "      <td>0.020175</td>\n",
              "      <td>Sube</td>\n",
              "      <td>0.006475</td>\n",
              "    </tr>\n",
              "    <tr>\n",
              "      <th>StockOptionLevel</th>\n",
              "      <td>0.005408</td>\n",
              "      <td>0.051935</td>\n",
              "      <td>Sube</td>\n",
              "      <td>0.027115</td>\n",
              "    </tr>\n",
              "  </tbody>\n",
              "</table>\n",
              "</div>"
            ],
            "text/plain": [
              "                                 0         1 cambio         0\n",
              "MonthlyIncome             1.000000  1.000000   Sube  1.000000\n",
              "JobLevel                  0.950300  0.945540   Baja  0.949976\n",
              "TotalWorkingYears         0.772523  0.742277   Baja  0.771221\n",
              "YearsAtCompany            0.514285  0.634973   Sube  0.487315\n",
              "Age                       0.497855  0.500602   Sube  0.486713\n",
              "YearsInCurrentRole        0.363818  0.561386   Sube  0.320465\n",
              "YearsSinceLastPromotion   0.344978  0.476264   Sube  0.327084\n",
              "YearsWithCurrManager      0.344079  0.485162   Sube  0.307697\n",
              "Attrition                 0.159840       NaN   Baja       NaN\n",
              "NumCompaniesWorked        0.149515  0.187627   Sube  0.155542\n",
              "Education                 0.094961  0.105162   Sube  0.089564\n",
              "Gender                    0.031858  0.003639   Baja  0.032068\n",
              "WorkLifeBalance           0.030683  0.002965   Baja  0.024187\n",
              "PercentSalaryHike         0.027269  0.132655   Sube  0.014584\n",
              "RelationshipSatisfaction  0.025873  0.092321   Sube  0.007763\n",
              "TrainingTimesLastYear     0.021736  0.106249   Sube  0.021364\n",
              "PerformanceRating         0.017120  0.126633   Sube  0.000935\n",
              "DistanceFromHome          0.017014  0.038948   Sube  0.011321\n",
              "HourlyRate                0.015794  0.018204   Sube  0.022225\n",
              "JobInvolvement            0.015271  0.008321   Baja  0.041844\n",
              "EmployeeNumber            0.014829  0.000209   Baja  0.019142\n",
              "JobSatisfaction           0.007157  0.004767   Baja  0.028556\n",
              "EnvironmentSatisfaction   0.006259  0.089457   Sube  0.012947\n",
              "DailyRate                 0.005989  0.020175   Sube  0.006475\n",
              "StockOptionLevel          0.005408  0.051935   Sube  0.027115"
            ]
          },
          "metadata": {
            "tags": []
          },
          "execution_count": 420
        }
      ]
    },
    {
      "cell_type": "code",
      "metadata": {
        "colab": {
          "base_uri": "https://localhost:8080/",
          "height": 844
        },
        "id": "gFxAREkiu7nr",
        "outputId": "6968a566-3de4-4e96-ec1a-197a3a3d9f42"
      },
      "source": [
        "# matriz de correlacion de toda la tabla \n",
        "ibmdata.corr() "
      ],
      "execution_count": null,
      "outputs": [
        {
          "output_type": "execute_result",
          "data": {
            "text/html": [
              "<div>\n",
              "<style scoped>\n",
              "    .dataframe tbody tr th:only-of-type {\n",
              "        vertical-align: middle;\n",
              "    }\n",
              "\n",
              "    .dataframe tbody tr th {\n",
              "        vertical-align: top;\n",
              "    }\n",
              "\n",
              "    .dataframe thead th {\n",
              "        text-align: right;\n",
              "    }\n",
              "</style>\n",
              "<table border=\"1\" class=\"dataframe\">\n",
              "  <thead>\n",
              "    <tr style=\"text-align: right;\">\n",
              "      <th></th>\n",
              "      <th>Age</th>\n",
              "      <th>Attrition</th>\n",
              "      <th>DailyRate</th>\n",
              "      <th>DistanceFromHome</th>\n",
              "      <th>Education</th>\n",
              "      <th>EmployeeNumber</th>\n",
              "      <th>EnvironmentSatisfaction</th>\n",
              "      <th>Gender</th>\n",
              "      <th>HourlyRate</th>\n",
              "      <th>JobInvolvement</th>\n",
              "      <th>JobLevel</th>\n",
              "      <th>JobSatisfaction</th>\n",
              "      <th>MonthlyIncome</th>\n",
              "      <th>NumCompaniesWorked</th>\n",
              "      <th>PercentSalaryHike</th>\n",
              "      <th>PerformanceRating</th>\n",
              "      <th>RelationshipSatisfaction</th>\n",
              "      <th>StockOptionLevel</th>\n",
              "      <th>TotalWorkingYears</th>\n",
              "      <th>TrainingTimesLastYear</th>\n",
              "      <th>WorkLifeBalance</th>\n",
              "      <th>YearsAtCompany</th>\n",
              "      <th>YearsInCurrentRole</th>\n",
              "      <th>YearsSinceLastPromotion</th>\n",
              "      <th>YearsWithCurrManager</th>\n",
              "    </tr>\n",
              "  </thead>\n",
              "  <tbody>\n",
              "    <tr>\n",
              "      <th>Age</th>\n",
              "      <td>1.000000</td>\n",
              "      <td>-0.159205</td>\n",
              "      <td>0.012225</td>\n",
              "      <td>-0.001686</td>\n",
              "      <td>0.208034</td>\n",
              "      <td>-0.010145</td>\n",
              "      <td>0.010146</td>\n",
              "      <td>0.036311</td>\n",
              "      <td>0.024287</td>\n",
              "      <td>0.029820</td>\n",
              "      <td>0.509604</td>\n",
              "      <td>-0.004892</td>\n",
              "      <td>0.497855</td>\n",
              "      <td>0.299635</td>\n",
              "      <td>0.003634</td>\n",
              "      <td>0.001904</td>\n",
              "      <td>0.053535</td>\n",
              "      <td>0.037510</td>\n",
              "      <td>0.680557</td>\n",
              "      <td>-0.019621</td>\n",
              "      <td>-0.021490</td>\n",
              "      <td>0.311309</td>\n",
              "      <td>0.212901</td>\n",
              "      <td>0.216513</td>\n",
              "      <td>0.202089</td>\n",
              "    </tr>\n",
              "    <tr>\n",
              "      <th>Attrition</th>\n",
              "      <td>-0.159205</td>\n",
              "      <td>1.000000</td>\n",
              "      <td>-0.056565</td>\n",
              "      <td>0.077924</td>\n",
              "      <td>-0.031373</td>\n",
              "      <td>-0.010577</td>\n",
              "      <td>-0.103369</td>\n",
              "      <td>-0.029453</td>\n",
              "      <td>-0.006846</td>\n",
              "      <td>-0.130016</td>\n",
              "      <td>-0.169105</td>\n",
              "      <td>-0.103481</td>\n",
              "      <td>-0.159840</td>\n",
              "      <td>0.043494</td>\n",
              "      <td>-0.013478</td>\n",
              "      <td>0.002889</td>\n",
              "      <td>-0.045872</td>\n",
              "      <td>-0.137145</td>\n",
              "      <td>-0.171078</td>\n",
              "      <td>-0.059478</td>\n",
              "      <td>-0.063939</td>\n",
              "      <td>-0.134392</td>\n",
              "      <td>-0.160545</td>\n",
              "      <td>-0.033019</td>\n",
              "      <td>-0.156199</td>\n",
              "    </tr>\n",
              "    <tr>\n",
              "      <th>DailyRate</th>\n",
              "      <td>0.012225</td>\n",
              "      <td>-0.056565</td>\n",
              "      <td>1.000000</td>\n",
              "      <td>-0.006422</td>\n",
              "      <td>-0.019199</td>\n",
              "      <td>-0.050490</td>\n",
              "      <td>0.019425</td>\n",
              "      <td>0.009495</td>\n",
              "      <td>0.024234</td>\n",
              "      <td>0.043915</td>\n",
              "      <td>0.001328</td>\n",
              "      <td>0.031451</td>\n",
              "      <td>0.005989</td>\n",
              "      <td>0.037983</td>\n",
              "      <td>0.025942</td>\n",
              "      <td>0.003049</td>\n",
              "      <td>0.008288</td>\n",
              "      <td>0.042110</td>\n",
              "      <td>0.014504</td>\n",
              "      <td>0.004101</td>\n",
              "      <td>-0.037605</td>\n",
              "      <td>-0.035110</td>\n",
              "      <td>0.009463</td>\n",
              "      <td>-0.036306</td>\n",
              "      <td>-0.027051</td>\n",
              "    </tr>\n",
              "    <tr>\n",
              "      <th>DistanceFromHome</th>\n",
              "      <td>-0.001686</td>\n",
              "      <td>0.077924</td>\n",
              "      <td>-0.006422</td>\n",
              "      <td>1.000000</td>\n",
              "      <td>0.021042</td>\n",
              "      <td>0.032916</td>\n",
              "      <td>-0.016075</td>\n",
              "      <td>0.001851</td>\n",
              "      <td>0.031131</td>\n",
              "      <td>0.008783</td>\n",
              "      <td>0.005303</td>\n",
              "      <td>-0.003669</td>\n",
              "      <td>-0.017014</td>\n",
              "      <td>-0.029251</td>\n",
              "      <td>0.040235</td>\n",
              "      <td>0.027110</td>\n",
              "      <td>0.006557</td>\n",
              "      <td>0.044872</td>\n",
              "      <td>0.004915</td>\n",
              "      <td>-0.036942</td>\n",
              "      <td>-0.026556</td>\n",
              "      <td>0.009508</td>\n",
              "      <td>0.018845</td>\n",
              "      <td>0.010029</td>\n",
              "      <td>0.014406</td>\n",
              "    </tr>\n",
              "    <tr>\n",
              "      <th>Education</th>\n",
              "      <td>0.208034</td>\n",
              "      <td>-0.031373</td>\n",
              "      <td>-0.019199</td>\n",
              "      <td>0.021042</td>\n",
              "      <td>1.000000</td>\n",
              "      <td>0.042070</td>\n",
              "      <td>-0.027128</td>\n",
              "      <td>0.016547</td>\n",
              "      <td>0.016775</td>\n",
              "      <td>0.042438</td>\n",
              "      <td>0.101589</td>\n",
              "      <td>-0.011296</td>\n",
              "      <td>0.094961</td>\n",
              "      <td>0.126317</td>\n",
              "      <td>-0.011111</td>\n",
              "      <td>-0.024539</td>\n",
              "      <td>-0.009118</td>\n",
              "      <td>0.018422</td>\n",
              "      <td>0.148339</td>\n",
              "      <td>-0.025100</td>\n",
              "      <td>0.009819</td>\n",
              "      <td>0.069114</td>\n",
              "      <td>0.060236</td>\n",
              "      <td>0.054254</td>\n",
              "      <td>0.069065</td>\n",
              "    </tr>\n",
              "    <tr>\n",
              "      <th>EmployeeNumber</th>\n",
              "      <td>-0.010145</td>\n",
              "      <td>-0.010577</td>\n",
              "      <td>-0.050490</td>\n",
              "      <td>0.032916</td>\n",
              "      <td>0.042070</td>\n",
              "      <td>1.000000</td>\n",
              "      <td>0.017621</td>\n",
              "      <td>-0.022556</td>\n",
              "      <td>0.035179</td>\n",
              "      <td>-0.006888</td>\n",
              "      <td>-0.018519</td>\n",
              "      <td>-0.046247</td>\n",
              "      <td>-0.014829</td>\n",
              "      <td>-0.001251</td>\n",
              "      <td>-0.012944</td>\n",
              "      <td>-0.020359</td>\n",
              "      <td>-0.069861</td>\n",
              "      <td>0.062227</td>\n",
              "      <td>-0.015036</td>\n",
              "      <td>0.023603</td>\n",
              "      <td>0.010309</td>\n",
              "      <td>-0.011240</td>\n",
              "      <td>-0.008416</td>\n",
              "      <td>-0.009019</td>\n",
              "      <td>-0.009197</td>\n",
              "    </tr>\n",
              "    <tr>\n",
              "      <th>EnvironmentSatisfaction</th>\n",
              "      <td>0.010146</td>\n",
              "      <td>-0.103369</td>\n",
              "      <td>0.019425</td>\n",
              "      <td>-0.016075</td>\n",
              "      <td>-0.027128</td>\n",
              "      <td>0.017621</td>\n",
              "      <td>1.000000</td>\n",
              "      <td>-0.000508</td>\n",
              "      <td>-0.049857</td>\n",
              "      <td>-0.008278</td>\n",
              "      <td>0.001212</td>\n",
              "      <td>-0.006784</td>\n",
              "      <td>-0.006259</td>\n",
              "      <td>0.012594</td>\n",
              "      <td>-0.031701</td>\n",
              "      <td>-0.029548</td>\n",
              "      <td>0.007665</td>\n",
              "      <td>0.003432</td>\n",
              "      <td>-0.002357</td>\n",
              "      <td>-0.019359</td>\n",
              "      <td>0.027627</td>\n",
              "      <td>0.001458</td>\n",
              "      <td>0.018007</td>\n",
              "      <td>0.016194</td>\n",
              "      <td>-0.004999</td>\n",
              "    </tr>\n",
              "    <tr>\n",
              "      <th>Gender</th>\n",
              "      <td>0.036311</td>\n",
              "      <td>-0.029453</td>\n",
              "      <td>0.009495</td>\n",
              "      <td>0.001851</td>\n",
              "      <td>0.016547</td>\n",
              "      <td>-0.022556</td>\n",
              "      <td>-0.000508</td>\n",
              "      <td>1.000000</td>\n",
              "      <td>0.000478</td>\n",
              "      <td>-0.017960</td>\n",
              "      <td>0.039403</td>\n",
              "      <td>-0.033252</td>\n",
              "      <td>0.031858</td>\n",
              "      <td>0.039147</td>\n",
              "      <td>-0.002733</td>\n",
              "      <td>0.013859</td>\n",
              "      <td>-0.022868</td>\n",
              "      <td>-0.012716</td>\n",
              "      <td>0.046182</td>\n",
              "      <td>0.038787</td>\n",
              "      <td>0.002753</td>\n",
              "      <td>0.029747</td>\n",
              "      <td>0.041483</td>\n",
              "      <td>0.026985</td>\n",
              "      <td>0.030599</td>\n",
              "    </tr>\n",
              "    <tr>\n",
              "      <th>HourlyRate</th>\n",
              "      <td>0.024287</td>\n",
              "      <td>-0.006846</td>\n",
              "      <td>0.024234</td>\n",
              "      <td>0.031131</td>\n",
              "      <td>0.016775</td>\n",
              "      <td>0.035179</td>\n",
              "      <td>-0.049857</td>\n",
              "      <td>0.000478</td>\n",
              "      <td>1.000000</td>\n",
              "      <td>0.042861</td>\n",
              "      <td>-0.027853</td>\n",
              "      <td>-0.071335</td>\n",
              "      <td>-0.015794</td>\n",
              "      <td>0.022157</td>\n",
              "      <td>-0.009062</td>\n",
              "      <td>-0.002172</td>\n",
              "      <td>0.001330</td>\n",
              "      <td>0.050263</td>\n",
              "      <td>-0.003026</td>\n",
              "      <td>-0.008548</td>\n",
              "      <td>-0.004607</td>\n",
              "      <td>-0.019582</td>\n",
              "      <td>-0.024106</td>\n",
              "      <td>-0.026716</td>\n",
              "      <td>-0.020123</td>\n",
              "    </tr>\n",
              "    <tr>\n",
              "      <th>JobInvolvement</th>\n",
              "      <td>0.029820</td>\n",
              "      <td>-0.130016</td>\n",
              "      <td>0.043915</td>\n",
              "      <td>0.008783</td>\n",
              "      <td>0.042438</td>\n",
              "      <td>-0.006888</td>\n",
              "      <td>-0.008278</td>\n",
              "      <td>-0.017960</td>\n",
              "      <td>0.042861</td>\n",
              "      <td>1.000000</td>\n",
              "      <td>-0.012630</td>\n",
              "      <td>-0.021476</td>\n",
              "      <td>-0.015271</td>\n",
              "      <td>0.015012</td>\n",
              "      <td>-0.017205</td>\n",
              "      <td>-0.029071</td>\n",
              "      <td>0.034297</td>\n",
              "      <td>0.021523</td>\n",
              "      <td>-0.004031</td>\n",
              "      <td>-0.015338</td>\n",
              "      <td>-0.014617</td>\n",
              "      <td>-0.021355</td>\n",
              "      <td>0.008717</td>\n",
              "      <td>-0.024184</td>\n",
              "      <td>0.025976</td>\n",
              "    </tr>\n",
              "    <tr>\n",
              "      <th>JobLevel</th>\n",
              "      <td>0.509604</td>\n",
              "      <td>-0.169105</td>\n",
              "      <td>0.001328</td>\n",
              "      <td>0.005303</td>\n",
              "      <td>0.101589</td>\n",
              "      <td>-0.018519</td>\n",
              "      <td>0.001212</td>\n",
              "      <td>0.039403</td>\n",
              "      <td>-0.027853</td>\n",
              "      <td>-0.012630</td>\n",
              "      <td>1.000000</td>\n",
              "      <td>-0.001944</td>\n",
              "      <td>0.950300</td>\n",
              "      <td>0.142501</td>\n",
              "      <td>-0.034730</td>\n",
              "      <td>-0.021222</td>\n",
              "      <td>0.021642</td>\n",
              "      <td>0.013984</td>\n",
              "      <td>0.782050</td>\n",
              "      <td>-0.018191</td>\n",
              "      <td>0.037818</td>\n",
              "      <td>0.534739</td>\n",
              "      <td>0.389447</td>\n",
              "      <td>0.353885</td>\n",
              "      <td>0.375281</td>\n",
              "    </tr>\n",
              "    <tr>\n",
              "      <th>JobSatisfaction</th>\n",
              "      <td>-0.004892</td>\n",
              "      <td>-0.103481</td>\n",
              "      <td>0.031451</td>\n",
              "      <td>-0.003669</td>\n",
              "      <td>-0.011296</td>\n",
              "      <td>-0.046247</td>\n",
              "      <td>-0.006784</td>\n",
              "      <td>-0.033252</td>\n",
              "      <td>-0.071335</td>\n",
              "      <td>-0.021476</td>\n",
              "      <td>-0.001944</td>\n",
              "      <td>1.000000</td>\n",
              "      <td>-0.007157</td>\n",
              "      <td>-0.055699</td>\n",
              "      <td>0.020002</td>\n",
              "      <td>0.002297</td>\n",
              "      <td>-0.012454</td>\n",
              "      <td>0.010690</td>\n",
              "      <td>-0.019996</td>\n",
              "      <td>-0.005779</td>\n",
              "      <td>-0.019459</td>\n",
              "      <td>-0.003803</td>\n",
              "      <td>-0.002305</td>\n",
              "      <td>-0.018214</td>\n",
              "      <td>-0.027656</td>\n",
              "    </tr>\n",
              "    <tr>\n",
              "      <th>MonthlyIncome</th>\n",
              "      <td>0.497855</td>\n",
              "      <td>-0.159840</td>\n",
              "      <td>0.005989</td>\n",
              "      <td>-0.017014</td>\n",
              "      <td>0.094961</td>\n",
              "      <td>-0.014829</td>\n",
              "      <td>-0.006259</td>\n",
              "      <td>0.031858</td>\n",
              "      <td>-0.015794</td>\n",
              "      <td>-0.015271</td>\n",
              "      <td>0.950300</td>\n",
              "      <td>-0.007157</td>\n",
              "      <td>1.000000</td>\n",
              "      <td>0.149515</td>\n",
              "      <td>-0.027269</td>\n",
              "      <td>-0.017120</td>\n",
              "      <td>0.025873</td>\n",
              "      <td>0.005408</td>\n",
              "      <td>0.772523</td>\n",
              "      <td>-0.021736</td>\n",
              "      <td>0.030683</td>\n",
              "      <td>0.514285</td>\n",
              "      <td>0.363818</td>\n",
              "      <td>0.344978</td>\n",
              "      <td>0.344079</td>\n",
              "    </tr>\n",
              "    <tr>\n",
              "      <th>NumCompaniesWorked</th>\n",
              "      <td>0.299635</td>\n",
              "      <td>0.043494</td>\n",
              "      <td>0.037983</td>\n",
              "      <td>-0.029251</td>\n",
              "      <td>0.126317</td>\n",
              "      <td>-0.001251</td>\n",
              "      <td>0.012594</td>\n",
              "      <td>0.039147</td>\n",
              "      <td>0.022157</td>\n",
              "      <td>0.015012</td>\n",
              "      <td>0.142501</td>\n",
              "      <td>-0.055699</td>\n",
              "      <td>0.149515</td>\n",
              "      <td>1.000000</td>\n",
              "      <td>-0.010238</td>\n",
              "      <td>-0.014095</td>\n",
              "      <td>0.052733</td>\n",
              "      <td>0.030075</td>\n",
              "      <td>0.237452</td>\n",
              "      <td>-0.066054</td>\n",
              "      <td>-0.008366</td>\n",
              "      <td>-0.118421</td>\n",
              "      <td>-0.090754</td>\n",
              "      <td>-0.036814</td>\n",
              "      <td>-0.110319</td>\n",
              "    </tr>\n",
              "    <tr>\n",
              "      <th>PercentSalaryHike</th>\n",
              "      <td>0.003634</td>\n",
              "      <td>-0.013478</td>\n",
              "      <td>0.025942</td>\n",
              "      <td>0.040235</td>\n",
              "      <td>-0.011111</td>\n",
              "      <td>-0.012944</td>\n",
              "      <td>-0.031701</td>\n",
              "      <td>-0.002733</td>\n",
              "      <td>-0.009062</td>\n",
              "      <td>-0.017205</td>\n",
              "      <td>-0.034730</td>\n",
              "      <td>0.020002</td>\n",
              "      <td>-0.027269</td>\n",
              "      <td>-0.010238</td>\n",
              "      <td>1.000000</td>\n",
              "      <td>0.773550</td>\n",
              "      <td>-0.040490</td>\n",
              "      <td>0.007528</td>\n",
              "      <td>-0.020458</td>\n",
              "      <td>-0.005221</td>\n",
              "      <td>-0.003280</td>\n",
              "      <td>-0.035991</td>\n",
              "      <td>-0.001520</td>\n",
              "      <td>-0.022154</td>\n",
              "      <td>-0.011985</td>\n",
              "    </tr>\n",
              "    <tr>\n",
              "      <th>PerformanceRating</th>\n",
              "      <td>0.001904</td>\n",
              "      <td>0.002889</td>\n",
              "      <td>0.003049</td>\n",
              "      <td>0.027110</td>\n",
              "      <td>-0.024539</td>\n",
              "      <td>-0.020359</td>\n",
              "      <td>-0.029548</td>\n",
              "      <td>0.013859</td>\n",
              "      <td>-0.002172</td>\n",
              "      <td>-0.029071</td>\n",
              "      <td>-0.021222</td>\n",
              "      <td>0.002297</td>\n",
              "      <td>-0.017120</td>\n",
              "      <td>-0.014095</td>\n",
              "      <td>0.773550</td>\n",
              "      <td>1.000000</td>\n",
              "      <td>-0.031351</td>\n",
              "      <td>0.003506</td>\n",
              "      <td>0.006826</td>\n",
              "      <td>-0.015579</td>\n",
              "      <td>0.002572</td>\n",
              "      <td>0.003435</td>\n",
              "      <td>0.034986</td>\n",
              "      <td>0.017896</td>\n",
              "      <td>0.022827</td>\n",
              "    </tr>\n",
              "    <tr>\n",
              "      <th>RelationshipSatisfaction</th>\n",
              "      <td>0.053535</td>\n",
              "      <td>-0.045872</td>\n",
              "      <td>0.008288</td>\n",
              "      <td>0.006557</td>\n",
              "      <td>-0.009118</td>\n",
              "      <td>-0.069861</td>\n",
              "      <td>0.007665</td>\n",
              "      <td>-0.022868</td>\n",
              "      <td>0.001330</td>\n",
              "      <td>0.034297</td>\n",
              "      <td>0.021642</td>\n",
              "      <td>-0.012454</td>\n",
              "      <td>0.025873</td>\n",
              "      <td>0.052733</td>\n",
              "      <td>-0.040490</td>\n",
              "      <td>-0.031351</td>\n",
              "      <td>1.000000</td>\n",
              "      <td>-0.045952</td>\n",
              "      <td>0.024344</td>\n",
              "      <td>0.002497</td>\n",
              "      <td>0.019604</td>\n",
              "      <td>0.019367</td>\n",
              "      <td>-0.015123</td>\n",
              "      <td>0.033493</td>\n",
              "      <td>-0.000867</td>\n",
              "    </tr>\n",
              "    <tr>\n",
              "      <th>StockOptionLevel</th>\n",
              "      <td>0.037510</td>\n",
              "      <td>-0.137145</td>\n",
              "      <td>0.042110</td>\n",
              "      <td>0.044872</td>\n",
              "      <td>0.018422</td>\n",
              "      <td>0.062227</td>\n",
              "      <td>0.003432</td>\n",
              "      <td>-0.012716</td>\n",
              "      <td>0.050263</td>\n",
              "      <td>0.021523</td>\n",
              "      <td>0.013984</td>\n",
              "      <td>0.010690</td>\n",
              "      <td>0.005408</td>\n",
              "      <td>0.030075</td>\n",
              "      <td>0.007528</td>\n",
              "      <td>0.003506</td>\n",
              "      <td>-0.045952</td>\n",
              "      <td>1.000000</td>\n",
              "      <td>0.010076</td>\n",
              "      <td>0.011274</td>\n",
              "      <td>0.004129</td>\n",
              "      <td>0.015058</td>\n",
              "      <td>0.050818</td>\n",
              "      <td>0.014352</td>\n",
              "      <td>0.024698</td>\n",
              "    </tr>\n",
              "    <tr>\n",
              "      <th>TotalWorkingYears</th>\n",
              "      <td>0.680557</td>\n",
              "      <td>-0.171078</td>\n",
              "      <td>0.014504</td>\n",
              "      <td>0.004915</td>\n",
              "      <td>0.148339</td>\n",
              "      <td>-0.015036</td>\n",
              "      <td>-0.002357</td>\n",
              "      <td>0.046182</td>\n",
              "      <td>-0.003026</td>\n",
              "      <td>-0.004031</td>\n",
              "      <td>0.782050</td>\n",
              "      <td>-0.019996</td>\n",
              "      <td>0.772523</td>\n",
              "      <td>0.237452</td>\n",
              "      <td>-0.020458</td>\n",
              "      <td>0.006826</td>\n",
              "      <td>0.024344</td>\n",
              "      <td>0.010076</td>\n",
              "      <td>1.000000</td>\n",
              "      <td>-0.035507</td>\n",
              "      <td>0.000946</td>\n",
              "      <td>0.627511</td>\n",
              "      <td>0.459071</td>\n",
              "      <td>0.405227</td>\n",
              "      <td>0.458471</td>\n",
              "    </tr>\n",
              "    <tr>\n",
              "      <th>TrainingTimesLastYear</th>\n",
              "      <td>-0.019621</td>\n",
              "      <td>-0.059478</td>\n",
              "      <td>0.004101</td>\n",
              "      <td>-0.036942</td>\n",
              "      <td>-0.025100</td>\n",
              "      <td>0.023603</td>\n",
              "      <td>-0.019359</td>\n",
              "      <td>0.038787</td>\n",
              "      <td>-0.008548</td>\n",
              "      <td>-0.015338</td>\n",
              "      <td>-0.018191</td>\n",
              "      <td>-0.005779</td>\n",
              "      <td>-0.021736</td>\n",
              "      <td>-0.066054</td>\n",
              "      <td>-0.005221</td>\n",
              "      <td>-0.015579</td>\n",
              "      <td>0.002497</td>\n",
              "      <td>0.011274</td>\n",
              "      <td>-0.035507</td>\n",
              "      <td>1.000000</td>\n",
              "      <td>0.028072</td>\n",
              "      <td>0.003569</td>\n",
              "      <td>-0.005738</td>\n",
              "      <td>-0.002067</td>\n",
              "      <td>-0.004096</td>\n",
              "    </tr>\n",
              "    <tr>\n",
              "      <th>WorkLifeBalance</th>\n",
              "      <td>-0.021490</td>\n",
              "      <td>-0.063939</td>\n",
              "      <td>-0.037605</td>\n",
              "      <td>-0.026556</td>\n",
              "      <td>0.009819</td>\n",
              "      <td>0.010309</td>\n",
              "      <td>0.027627</td>\n",
              "      <td>0.002753</td>\n",
              "      <td>-0.004607</td>\n",
              "      <td>-0.014617</td>\n",
              "      <td>0.037818</td>\n",
              "      <td>-0.019459</td>\n",
              "      <td>0.030683</td>\n",
              "      <td>-0.008366</td>\n",
              "      <td>-0.003280</td>\n",
              "      <td>0.002572</td>\n",
              "      <td>0.019604</td>\n",
              "      <td>0.004129</td>\n",
              "      <td>0.000946</td>\n",
              "      <td>0.028072</td>\n",
              "      <td>1.000000</td>\n",
              "      <td>0.012089</td>\n",
              "      <td>0.049856</td>\n",
              "      <td>0.008941</td>\n",
              "      <td>0.002759</td>\n",
              "    </tr>\n",
              "    <tr>\n",
              "      <th>YearsAtCompany</th>\n",
              "      <td>0.311309</td>\n",
              "      <td>-0.134392</td>\n",
              "      <td>-0.035110</td>\n",
              "      <td>0.009508</td>\n",
              "      <td>0.069114</td>\n",
              "      <td>-0.011240</td>\n",
              "      <td>0.001458</td>\n",
              "      <td>0.029747</td>\n",
              "      <td>-0.019582</td>\n",
              "      <td>-0.021355</td>\n",
              "      <td>0.534739</td>\n",
              "      <td>-0.003803</td>\n",
              "      <td>0.514285</td>\n",
              "      <td>-0.118421</td>\n",
              "      <td>-0.035991</td>\n",
              "      <td>0.003435</td>\n",
              "      <td>0.019367</td>\n",
              "      <td>0.015058</td>\n",
              "      <td>0.627511</td>\n",
              "      <td>0.003569</td>\n",
              "      <td>0.012089</td>\n",
              "      <td>1.000000</td>\n",
              "      <td>0.758754</td>\n",
              "      <td>0.618409</td>\n",
              "      <td>0.769212</td>\n",
              "    </tr>\n",
              "    <tr>\n",
              "      <th>YearsInCurrentRole</th>\n",
              "      <td>0.212901</td>\n",
              "      <td>-0.160545</td>\n",
              "      <td>0.009463</td>\n",
              "      <td>0.018845</td>\n",
              "      <td>0.060236</td>\n",
              "      <td>-0.008416</td>\n",
              "      <td>0.018007</td>\n",
              "      <td>0.041483</td>\n",
              "      <td>-0.024106</td>\n",
              "      <td>0.008717</td>\n",
              "      <td>0.389447</td>\n",
              "      <td>-0.002305</td>\n",
              "      <td>0.363818</td>\n",
              "      <td>-0.090754</td>\n",
              "      <td>-0.001520</td>\n",
              "      <td>0.034986</td>\n",
              "      <td>-0.015123</td>\n",
              "      <td>0.050818</td>\n",
              "      <td>0.459071</td>\n",
              "      <td>-0.005738</td>\n",
              "      <td>0.049856</td>\n",
              "      <td>0.758754</td>\n",
              "      <td>1.000000</td>\n",
              "      <td>0.548056</td>\n",
              "      <td>0.714365</td>\n",
              "    </tr>\n",
              "    <tr>\n",
              "      <th>YearsSinceLastPromotion</th>\n",
              "      <td>0.216513</td>\n",
              "      <td>-0.033019</td>\n",
              "      <td>-0.036306</td>\n",
              "      <td>0.010029</td>\n",
              "      <td>0.054254</td>\n",
              "      <td>-0.009019</td>\n",
              "      <td>0.016194</td>\n",
              "      <td>0.026985</td>\n",
              "      <td>-0.026716</td>\n",
              "      <td>-0.024184</td>\n",
              "      <td>0.353885</td>\n",
              "      <td>-0.018214</td>\n",
              "      <td>0.344978</td>\n",
              "      <td>-0.036814</td>\n",
              "      <td>-0.022154</td>\n",
              "      <td>0.017896</td>\n",
              "      <td>0.033493</td>\n",
              "      <td>0.014352</td>\n",
              "      <td>0.405227</td>\n",
              "      <td>-0.002067</td>\n",
              "      <td>0.008941</td>\n",
              "      <td>0.618409</td>\n",
              "      <td>0.548056</td>\n",
              "      <td>1.000000</td>\n",
              "      <td>0.510224</td>\n",
              "    </tr>\n",
              "    <tr>\n",
              "      <th>YearsWithCurrManager</th>\n",
              "      <td>0.202089</td>\n",
              "      <td>-0.156199</td>\n",
              "      <td>-0.027051</td>\n",
              "      <td>0.014406</td>\n",
              "      <td>0.069065</td>\n",
              "      <td>-0.009197</td>\n",
              "      <td>-0.004999</td>\n",
              "      <td>0.030599</td>\n",
              "      <td>-0.020123</td>\n",
              "      <td>0.025976</td>\n",
              "      <td>0.375281</td>\n",
              "      <td>-0.027656</td>\n",
              "      <td>0.344079</td>\n",
              "      <td>-0.110319</td>\n",
              "      <td>-0.011985</td>\n",
              "      <td>0.022827</td>\n",
              "      <td>-0.000867</td>\n",
              "      <td>0.024698</td>\n",
              "      <td>0.458471</td>\n",
              "      <td>-0.004096</td>\n",
              "      <td>0.002759</td>\n",
              "      <td>0.769212</td>\n",
              "      <td>0.714365</td>\n",
              "      <td>0.510224</td>\n",
              "      <td>1.000000</td>\n",
              "    </tr>\n",
              "  </tbody>\n",
              "</table>\n",
              "</div>"
            ],
            "text/plain": [
              "                               Age  ...  YearsWithCurrManager\n",
              "Age                       1.000000  ...              0.202089\n",
              "Attrition                -0.159205  ...             -0.156199\n",
              "DailyRate                 0.012225  ...             -0.027051\n",
              "DistanceFromHome         -0.001686  ...              0.014406\n",
              "Education                 0.208034  ...              0.069065\n",
              "EmployeeNumber           -0.010145  ...             -0.009197\n",
              "EnvironmentSatisfaction   0.010146  ...             -0.004999\n",
              "Gender                    0.036311  ...              0.030599\n",
              "HourlyRate                0.024287  ...             -0.020123\n",
              "JobInvolvement            0.029820  ...              0.025976\n",
              "JobLevel                  0.509604  ...              0.375281\n",
              "JobSatisfaction          -0.004892  ...             -0.027656\n",
              "MonthlyIncome             0.497855  ...              0.344079\n",
              "NumCompaniesWorked        0.299635  ...             -0.110319\n",
              "PercentSalaryHike         0.003634  ...             -0.011985\n",
              "PerformanceRating         0.001904  ...              0.022827\n",
              "RelationshipSatisfaction  0.053535  ...             -0.000867\n",
              "StockOptionLevel          0.037510  ...              0.024698\n",
              "TotalWorkingYears         0.680557  ...              0.458471\n",
              "TrainingTimesLastYear    -0.019621  ...             -0.004096\n",
              "WorkLifeBalance          -0.021490  ...              0.002759\n",
              "YearsAtCompany            0.311309  ...              0.769212\n",
              "YearsInCurrentRole        0.212901  ...              0.714365\n",
              "YearsSinceLastPromotion   0.216513  ...              0.510224\n",
              "YearsWithCurrManager      0.202089  ...              1.000000\n",
              "\n",
              "[25 rows x 25 columns]"
            ]
          },
          "metadata": {
            "tags": []
          },
          "execution_count": 421
        }
      ]
    },
    {
      "cell_type": "code",
      "metadata": {
        "colab": {
          "base_uri": "https://localhost:8080/",
          "height": 441
        },
        "id": "TIfxbrB8glCm",
        "outputId": "516315df-ad2d-4538-dd88-292fbb81495d"
      },
      "source": [
        "# grafica de correlacion entre la ganancia mensual y el nivel de trabajo \n",
        "def graficar_correlación(df, var_a, var_b):\n",
        "\n",
        "  r = df[var_a].corr(df[var_b],method='pearson');\n",
        "  fig, ax = plt.subplots(dpi = 110);\n",
        "  df.plot.scatter(var_a, var_b, title=f\"Coeficiente de correlación: {r :.2}\", ax = ax,\n",
        "                marker='o', linestyle='None', s = 70, alpha = 0.5, grid=True\n",
        "                ); \n",
        "graficar_correlación(abandona,'MonthlyIncome','JobLevel')"
      ],
      "execution_count": null,
      "outputs": [
        {
          "output_type": "display_data",
          "data": {
            "image/png": "[encoded data removed]",
            "text/plain": [
              "<Figure size 660x440 with 1 Axes>"
            ]
          },
          "metadata": {
            "tags": [],
            "needs_background": "light"
          }
        }
      ]
    },
    {
      "cell_type": "markdown",
      "metadata": {
        "id": "99DkJ-iQ9OHO"
      },
      "source": [
        "###**Intervalos de confianza**\n",
        "---"
      ]
    },
    {
      "cell_type": "code",
      "metadata": {
        "colab": {
          "base_uri": "https://localhost:8080/",
          "height": 235
        },
        "id": "P5ORUDjw9SEm",
        "outputId": "76716981-ed89-4822-afed-2739239e8b59"
      },
      "source": [
        "# se hallan los entervalos y se presentan en una tabla\n",
        "limite_inferior1, limite_superior1 = sm.stats.DescrStatsW(ibmdata['Age']).tconfint_mean(alpha = 0.05)\n",
        "int1= (limite_inferior1, limite_superior1)\n",
        "limite_inferior2, limite_superior2 = sm.stats.DescrStatsW(abandona['Age']).tconfint_mean(alpha = 0.05)\n",
        "int2 = (limite_inferior2, limite_superior2)\n",
        "limite_inferior22, limite_superior22 = sm.stats.DescrStatsW(queda['Age']).tconfint_mean(alpha = 0.05)\n",
        "int3 = (limite_inferior22, limite_superior22)\n",
        "limite_inferior3, limite_superior3 = sm.stats.DescrStatsW(ibmdata['MonthlyIncome']).tconfint_mean(alpha = 0.05)\n",
        "int4 = (limite_inferior3, limite_superior3)\n",
        "limite_inferior4, limite_superior4 = sm.stats.DescrStatsW(abandona['MonthlyIncome']).tconfint_mean(alpha = 0.05)\n",
        "int5 = (limite_inferior4, limite_superior4)\n",
        "limite_inferior44, limite_superior44 = sm.stats.DescrStatsW(queda['MonthlyIncome']).tconfint_mean(alpha = 0.05)\n",
        "int6= (limite_inferior44, limite_superior44)\n",
        "tabla=pd.DataFrame()\n",
        "tabla['Atributo']=['Edad poblacion','Edad abandonaron','Edad quedan','Ganancia poblacion','Ganancia abandonaron','Ganancia quedan']\n",
        "tabla['Limite inferior']=[limite_inferior1,limite_inferior2,limite_inferior22,limite_inferior3,limite_inferior4,limite_inferior44]\n",
        "tabla['Limite superior']=[limite_superior1,limite_superior2,limite_superior22,limite_superior3,limite_superior4,limite_superior44]\n",
        "tabla "
      ],
      "execution_count": null,
      "outputs": [
        {
          "output_type": "execute_result",
          "data": {
            "text/html": [
              "<div>\n",
              "<style scoped>\n",
              "    .dataframe tbody tr th:only-of-type {\n",
              "        vertical-align: middle;\n",
              "    }\n",
              "\n",
              "    .dataframe tbody tr th {\n",
              "        vertical-align: top;\n",
              "    }\n",
              "\n",
              "    .dataframe thead th {\n",
              "        text-align: right;\n",
              "    }\n",
              "</style>\n",
              "<table border=\"1\" class=\"dataframe\">\n",
              "  <thead>\n",
              "    <tr style=\"text-align: right;\">\n",
              "      <th></th>\n",
              "      <th>Atributo</th>\n",
              "      <th>Limite inferior</th>\n",
              "      <th>Limite superior</th>\n",
              "    </tr>\n",
              "  </thead>\n",
              "  <tbody>\n",
              "    <tr>\n",
              "      <th>0</th>\n",
              "      <td>Edad poblacion</td>\n",
              "      <td>36.456426</td>\n",
              "      <td>37.391193</td>\n",
              "    </tr>\n",
              "    <tr>\n",
              "      <th>1</th>\n",
              "      <td>Edad abandonaron</td>\n",
              "      <td>32.367653</td>\n",
              "      <td>34.847537</td>\n",
              "    </tr>\n",
              "    <tr>\n",
              "      <th>2</th>\n",
              "      <td>Edad quedan</td>\n",
              "      <td>37.064623</td>\n",
              "      <td>38.057842</td>\n",
              "    </tr>\n",
              "    <tr>\n",
              "      <th>3</th>\n",
              "      <td>Ganancia poblacion</td>\n",
              "      <td>6262.062872</td>\n",
              "      <td>6743.799713</td>\n",
              "    </tr>\n",
              "    <tr>\n",
              "      <th>4</th>\n",
              "      <td>Ganancia abandonaron</td>\n",
              "      <td>4321.256585</td>\n",
              "      <td>5252.929069</td>\n",
              "    </tr>\n",
              "    <tr>\n",
              "      <th>5</th>\n",
              "      <td>Ganancia quedan</td>\n",
              "      <td>6563.537235</td>\n",
              "      <td>7101.942084</td>\n",
              "    </tr>\n",
              "  </tbody>\n",
              "</table>\n",
              "</div>"
            ],
            "text/plain": [
              "               Atributo  Limite inferior  Limite superior\n",
              "0        Edad poblacion        36.456426        37.391193\n",
              "1      Edad abandonaron        32.367653        34.847537\n",
              "2           Edad quedan        37.064623        38.057842\n",
              "3    Ganancia poblacion      6262.062872      6743.799713\n",
              "4  Ganancia abandonaron      4321.256585      5252.929069\n",
              "5       Ganancia quedan      6563.537235      7101.942084"
            ]
          },
          "metadata": {
            "tags": []
          },
          "execution_count": 423
        }
      ]
    },
    {
      "cell_type": "markdown",
      "metadata": {
        "id": "Zm_esZxVVBXU"
      },
      "source": [
        "###**Pruebas de hipotesis**\n",
        "---\n"
      ]
    },
    {
      "cell_type": "markdown",
      "metadata": {
        "id": "z93MwKi_Wq5R"
      },
      "source": [
        "**1.** para la primer prueba de hipotesis se tiene dos muestras de datos, que son las personas que abandonaron el empleo y las personas que se quedaron en el empleo. se desea saber si tienen un diferencia significativa en el tiempo que estuvieron con el gerente actual.\n",
        "**Hipótesis**:\n",
        "\n",
        "* Hipótesis nula $H_0: \\mu_1 = \\mu_2$ ($\\mu_1 - \\mu_2 = 0$)\n",
        "* Hipótesis alternativa $H_a: \\mu_1 \\neq \\mu_2$ ($\\mu_1 - \\mu_2 \\neq 0$)"
      ]
    },
    {
      "cell_type": "code",
      "metadata": {
        "colab": {
          "base_uri": "https://localhost:8080/"
        },
        "id": "-k2L2G7maRT2",
        "outputId": "4e603db5-2222-4e26-96e1-b5322ffd5c6e"
      },
      "source": [
        "z_score, p_valor = sm.stats.ztest(abandona['YearsWithCurrManager'], queda['YearsWithCurrManager'],         # Las dos muestras\n",
        "                                  value=0,                # La dif=0 es la hipótesis nula\n",
        "                                  alternative='two-sided' # dos colas\n",
        "                                  )\n",
        "\n",
        "print(f\"Estadístico: {z_score}\\np-valor: {p_valor}\")\n",
        "if p_valor<0.05:\n",
        "  print('Como el p-valor SI es menor que alpha = 0.05 (nivel de significancia), suficiente evidencia para rechazar la hipótesis nula')\n",
        "else:\n",
        "   print('Como el p-valor NO es menor que alpha = 0.05 (nivel de significancia), no hay suficiente evidencia para rechazar la hipótesis nula')\n"
      ],
      "execution_count": null,
      "outputs": [
        {
          "output_type": "stream",
          "text": [
            "Estadístico: -6.059068531868998\n",
            "p-valor: 1.3691205589654362e-09\n",
            "Como el p-valor SI es menor que alpha = 0.05 (nivel de significancia), suficiente evidencia para rechazar la hipótesis nula\n"
          ],
          "name": "stdout"
        }
      ]
    },
    {
      "cell_type": "markdown",
      "metadata": {
        "id": "VL-EG3pDc77n"
      },
      "source": [
        "El resultado anterior significa que **SI** hay evidencia que indica que las personas que decidieron irse de la empresa tienen diferente tiempo con el jefe actual que las personas que decidieron quedarse."
      ]
    },
    {
      "cell_type": "markdown",
      "metadata": {
        "id": "S3AjN0OBdYa9"
      },
      "source": [
        "**2.** para esta prueba de hipotesis se tomaran en cuenta dos grupos distintos que son hombres y mujeres, y se identificara si existe una diferencia significativa en el la clasificacion de rendimiento.\n",
        "**Hipótesis**:\n",
        "\n",
        "* Hipótesis nula $H_0: \\mu_1 = \\mu_2$ ($\\mu_1 - \\mu_2 = 0$)\n",
        "* Hipótesis alternativa $H_a: \\mu_1 \\neq \\mu_2$ ($\\mu_1 - \\mu_2 \\neq 0$)"
      ]
    },
    {
      "cell_type": "code",
      "metadata": {
        "id": "kdiqHUomdwY_"
      },
      "source": [
        "mujeres=ibmdata.loc[ibmdata['Gender']==1]\n",
        "hombres=ibmdata.loc[ibmdata['Gender']==0]"
      ],
      "execution_count": null,
      "outputs": []
    },
    {
      "cell_type": "code",
      "metadata": {
        "colab": {
          "base_uri": "https://localhost:8080/"
        },
        "id": "Wsp01B6IedIT",
        "outputId": "bb97cc8e-ba1f-48d6-b5e3-0f2e31ee77e9"
      },
      "source": [
        "z_score, p_valor = sm.stats.ztest(mujeres['PerformanceRating'], mujeres['PerformanceRating'],         # Las dos muestras\n",
        "                                  value=0,                # La dif=0 es la hipótesis nula\n",
        "                                  alternative='two-sided' # dos colas\n",
        "                                  )\n",
        "\n",
        "print(f\"Estadístico: {z_score}\\np-valor: {p_valor}\")\n",
        "if p_valor<0.05:\n",
        "  print('Como el p-valor SI es menor que alpha = 0.05 (nivel de significancia), suficiente evidencia para rechazar la hipótesis nula')\n",
        "else:\n",
        "   print('Como el p-valor NO es menor que alpha = 0.05 (nivel de significancia), no hay suficiente evidencia para rechazar la hipótesis nula')\n"
      ],
      "execution_count": null,
      "outputs": [
        {
          "output_type": "stream",
          "text": [
            "Estadístico: 0.0\n",
            "p-valor: 1.0\n",
            "Como el p-valor NO es menor que alpha = 0.05 (nivel de significancia), no hay suficiente evidencia para rechazar la hipótesis nula\n"
          ],
          "name": "stdout"
        }
      ]
    },
    {
      "cell_type": "markdown",
      "metadata": {
        "id": "MjiUo0e2fL38"
      },
      "source": [
        "El resultado anterior significa que **NO** hay evidencia para rechazar la hipotesis nula es decir que no se descarta la hipotesis que la clasificacion de rendimiento entre hombres y mujeres sea igual. "
      ]
    },
    {
      "cell_type": "markdown",
      "metadata": {
        "id": "etu_Se84kTuJ"
      },
      "source": [
        "###**Gráficos**\n",
        "---\n"
      ]
    },
    {
      "cell_type": "code",
      "metadata": {
        "colab": {
          "base_uri": "https://localhost:8080/",
          "height": 630
        },
        "id": "HzqV4l7jk6TB",
        "outputId": "738fa432-4421-4006-e8a3-fafae6eb6890"
      },
      "source": [
        "ganancia_mes=ibmdata['MonthlyIncome'].sort_values()\n",
        "#fig = plt.figure(figsize=(12,3))\n",
        "#plt.scatter(ibmdata['MonthlyIncome'],ibmdata['JobLevel'])\n",
        "ax = sns.boxplot(x=\"JobRole\", \n",
        "                 y=\"MonthlyIncome\", \n",
        "                 data=ibmdata, \n",
        "                 palette='viridis',\n",
        "                 hue='Attrition')\n",
        "ax.set_title(\"Relacion puesto de trabajo con ganancia mensual\",color=\"blue\")\n",
        "ax.set_xlabel(\"Puesto de trabajo\",color=\"blue\")\n",
        "ax.set_ylabel(\"Ganancias mensuales\",color=\"blue\");\n",
        "ax.tick_params(axis='x', labelrotation=90)"
      ],
      "execution_count": null,
      "outputs": [
        {
          "output_type": "display_data",
          "data": {
            "image/png": "[encoded data removed]",
            "text/plain": [
              "<Figure size 660x440 with 1 Axes>"
            ]
          },
          "metadata": {
            "tags": [],
            "needs_background": "light"
          }
        }
      ]
    },
    {
      "cell_type": "code",
      "metadata": {
        "colab": {
          "base_uri": "https://localhost:8080/",
          "height": 579
        },
        "id": "4V-oEPbQkaKH",
        "outputId": "365d4e65-452c-4bdf-f77d-a20cd1cc3489"
      },
      "source": [
        "simplicada=ibmdata\n",
        "simplicada=simplicada.drop(['DailyRate','Age','HourlyRate','DistanceFromHome','Education','EmployeeNumber','Gender','JobInvolvement','WorkLifeBalance',\n",
        "                            'TrainingTimesLastYear','RelationshipSatisfaction','PerformanceRating','EnvironmentSatisfaction','JobSatisfaction','StockOptionLevel'], axis=1)\n",
        "corr= sns.heatmap(simplicada.corr(),cmap='Spectral',vmin=-1,fmt=r'.2f',linewidths=1);"
      ],
      "execution_count": null,
      "outputs": [
        {
          "output_type": "display_data",
          "data": {
            "image/png": "[encoded data removed]",
            "text/plain": [
              "<Figure size 660x440 with 2 Axes>"
            ]
          },
          "metadata": {
            "tags": [],
            "needs_background": "light"
          }
        }
      ]
    },
    {
      "cell_type": "code",
      "metadata": {
        "colab": {
          "base_uri": "https://localhost:8080/",
          "height": 562
        },
        "id": "INGt6HgLoi9t",
        "outputId": "4422f7a2-89fa-4282-8cd5-55cd75a1c736"
      },
      "source": [
        "massim=pd.DataFrame()\n",
        "massim['YearsAtCompany']=ibmdata['YearsAtCompany']\n",
        "massim['DailyRate']=ibmdata['DailyRate']\n",
        "massim=massim.head(9)\n",
        "sns.pairplot(data=massim);"
      ],
      "execution_count": null,
      "outputs": [
        {
          "output_type": "display_data",
          "data": {
            "image/png": "[encoded data removed]",
            "text/plain": [
              "<Figure size 550x550 with 6 Axes>"
            ]
          },
          "metadata": {
            "tags": [],
            "needs_background": "light"
          }
        }
      ]
    },
    {
      "cell_type": "code",
      "metadata": {
        "colab": {
          "base_uri": "https://localhost:8080/",
          "height": 665
        },
        "id": "kuTyRUhYvQ-j",
        "outputId": "41b9b13e-a8bb-4c29-b664-887e0e063a7f"
      },
      "source": [
        "g = sns.FacetGrid(ibmdata, col=\"MaritalStatus\", row=\"Attrition\")\n",
        "g = g.map(plt.hist, \"Age\")"
      ],
      "execution_count": null,
      "outputs": [
        {
          "output_type": "display_data",
          "data": {
            "image/png": "[encoded data removed]",
            "text/plain": [
              "<Figure size 990x660 with 6 Axes>"
            ]
          },
          "metadata": {
            "tags": [],
            "needs_background": "light"
          }
        }
      ]
    },
    {
      "cell_type": "markdown",
      "metadata": {
        "id": "b3Sb_AbByH4N"
      },
      "source": [
        "###**Regresion**\n",
        "---"
      ]
    },
    {
      "cell_type": "markdown",
      "metadata": {
        "id": "Pv2-Gdjf_iKL"
      },
      "source": [
        "**Regresiopn Logistica**"
      ]
    },
    {
      "cell_type": "code",
      "metadata": {
        "id": "cK5aDS_AyOfh",
        "colab": {
          "base_uri": "https://localhost:8080/",
          "height": 290
        },
        "outputId": "66efe4d7-2259-42af-c966-51d62f7d0aa4"
      },
      "source": [
        "model = sm.GLM.from_formula(\"Attrition ~ DailyRate\", family=sm.families.Binomial(), data=ibmdata)\n",
        "result = model.fit()\n",
        "\n",
        "intercepto,pendi= result.params\n",
        "y=list( map(lambda x: (1)/(1+np.exp(-(intercepto+(pendi*x)))), ibmdata['DailyRate']) )\n",
        "y=np.array(y)\n",
        "result.summary()"
      ],
      "execution_count": null,
      "outputs": [
        {
          "output_type": "execute_result",
          "data": {
            "text/html": [
              "<table class=\"simpletable\">\n",
              "<caption>Generalized Linear Model Regression Results</caption>\n",
              "<tr>\n",
              "  <th>Dep. Variable:</th>       <td>Attrition</td>    <th>  No. Observations:  </th>  <td>  1470</td> \n",
              "</tr>\n",
              "<tr>\n",
              "  <th>Model:</th>                  <td>GLM</td>       <th>  Df Residuals:      </th>  <td>  1468</td> \n",
              "</tr>\n",
              "<tr>\n",
              "  <th>Model Family:</th>        <td>Binomial</td>     <th>  Df Model:          </th>  <td>     1</td> \n",
              "</tr>\n",
              "<tr>\n",
              "  <th>Link Function:</th>         <td>logit</td>      <th>  Scale:             </th> <td>  1.0000</td>\n",
              "</tr>\n",
              "<tr>\n",
              "  <th>Method:</th>                <td>IRLS</td>       <th>  Log-Likelihood:    </th> <td> -646.94</td>\n",
              "</tr>\n",
              "<tr>\n",
              "  <th>Date:</th>            <td>Sat, 27 Mar 2021</td> <th>  Deviance:          </th> <td>  1293.9</td>\n",
              "</tr>\n",
              "<tr>\n",
              "  <th>Time:</th>                <td>03:03:20</td>     <th>  Pearson chi2:      </th> <td>1.47e+03</td>\n",
              "</tr>\n",
              "<tr>\n",
              "  <th>No. Iterations:</th>          <td>4</td>        <th>                     </th>     <td> </td>   \n",
              "</tr>\n",
              "<tr>\n",
              "  <th>Covariance Type:</th>     <td>nonrobust</td>    <th>                     </th>     <td> </td>   \n",
              "</tr>\n",
              "</table>\n",
              "<table class=\"simpletable\">\n",
              "<tr>\n",
              "      <td></td>         <th>coef</th>     <th>std err</th>      <th>z</th>      <th>P>|z|</th>  <th>[0.025</th>    <th>0.975]</th>  \n",
              "</tr>\n",
              "<tr>\n",
              "  <th>Intercept</th> <td>   -1.3496</td> <td>    0.152</td> <td>   -8.864</td> <td> 0.000</td> <td>   -1.648</td> <td>   -1.051</td>\n",
              "</tr>\n",
              "<tr>\n",
              "  <th>DailyRate</th> <td>   -0.0004</td> <td>    0.000</td> <td>   -2.164</td> <td> 0.030</td> <td>   -0.001</td> <td>-3.62e-05</td>\n",
              "</tr>\n",
              "</table>"
            ],
            "text/plain": [
              "<class 'statsmodels.iolib.summary.Summary'>\n",
              "\"\"\"\n",
              "                 Generalized Linear Model Regression Results                  \n",
              "==============================================================================\n",
              "Dep. Variable:              Attrition   No. Observations:                 1470\n",
              "Model:                            GLM   Df Residuals:                     1468\n",
              "Model Family:                Binomial   Df Model:                            1\n",
              "Link Function:                  logit   Scale:                          1.0000\n",
              "Method:                          IRLS   Log-Likelihood:                -646.94\n",
              "Date:                Sat, 27 Mar 2021   Deviance:                       1293.9\n",
              "Time:                        03:03:20   Pearson chi2:                 1.47e+03\n",
              "No. Iterations:                     4                                         \n",
              "Covariance Type:            nonrobust                                         \n",
              "==============================================================================\n",
              "                 coef    std err          z      P>|z|      [0.025      0.975]\n",
              "------------------------------------------------------------------------------\n",
              "Intercept     -1.3496      0.152     -8.864      0.000      -1.648      -1.051\n",
              "DailyRate     -0.0004      0.000     -2.164      0.030      -0.001   -3.62e-05\n",
              "==============================================================================\n",
              "\"\"\""
            ]
          },
          "metadata": {
            "tags": []
          },
          "execution_count": 431
        }
      ]
    },
    {
      "cell_type": "markdown",
      "metadata": {
        "id": "0QBnb2yL_qeD"
      },
      "source": [
        "**Regresiopn Lineal**"
      ]
    },
    {
      "cell_type": "code",
      "metadata": {
        "colab": {
          "base_uri": "https://localhost:8080/",
          "height": 478
        },
        "id": "kTR8hnS5teTq",
        "outputId": "4f553af8-f359-4f5a-8ddb-910240b0043d"
      },
      "source": [
        "model = sm.OLS.from_formula(\"Age ~ DailyRate\", data=ibmdata)\n",
        "result = model.fit()\n",
        "result.summary()"
      ],
      "execution_count": null,
      "outputs": [
        {
          "output_type": "execute_result",
          "data": {
            "text/html": [
              "<table class=\"simpletable\">\n",
              "<caption>OLS Regression Results</caption>\n",
              "<tr>\n",
              "  <th>Dep. Variable:</th>           <td>Age</td>       <th>  R-squared:         </th> <td>   0.000</td> \n",
              "</tr>\n",
              "<tr>\n",
              "  <th>Model:</th>                   <td>OLS</td>       <th>  Adj. R-squared:    </th> <td>  -0.001</td> \n",
              "</tr>\n",
              "<tr>\n",
              "  <th>Method:</th>             <td>Least Squares</td>  <th>  F-statistic:       </th> <td>  0.2194</td> \n",
              "</tr>\n",
              "<tr>\n",
              "  <th>Date:</th>             <td>Sat, 27 Mar 2021</td> <th>  Prob (F-statistic):</th>  <td> 0.640</td>  \n",
              "</tr>\n",
              "<tr>\n",
              "  <th>Time:</th>                 <td>03:03:20</td>     <th>  Log-Likelihood:    </th> <td> -5337.1</td> \n",
              "</tr>\n",
              "<tr>\n",
              "  <th>No. Observations:</th>      <td>  1470</td>      <th>  AIC:               </th> <td>1.068e+04</td>\n",
              "</tr>\n",
              "<tr>\n",
              "  <th>Df Residuals:</th>          <td>  1468</td>      <th>  BIC:               </th> <td>1.069e+04</td>\n",
              "</tr>\n",
              "<tr>\n",
              "  <th>Df Model:</th>              <td>     1</td>      <th>                     </th>     <td> </td>    \n",
              "</tr>\n",
              "<tr>\n",
              "  <th>Covariance Type:</th>      <td>nonrobust</td>    <th>                     </th>     <td> </td>    \n",
              "</tr>\n",
              "</table>\n",
              "<table class=\"simpletable\">\n",
              "<tr>\n",
              "      <td></td>         <th>coef</th>     <th>std err</th>      <th>t</th>      <th>P>|t|</th>  <th>[0.025</th>    <th>0.975]</th>  \n",
              "</tr>\n",
              "<tr>\n",
              "  <th>Intercept</th> <td>   36.7014</td> <td>    0.531</td> <td>   69.095</td> <td> 0.000</td> <td>   35.659</td> <td>   37.743</td>\n",
              "</tr>\n",
              "<tr>\n",
              "  <th>DailyRate</th> <td>    0.0003</td> <td>    0.001</td> <td>    0.468</td> <td> 0.640</td> <td>   -0.001</td> <td>    0.001</td>\n",
              "</tr>\n",
              "</table>\n",
              "<table class=\"simpletable\">\n",
              "<tr>\n",
              "  <th>Omnibus:</th>       <td>54.646</td> <th>  Durbin-Watson:     </th> <td>   1.991</td>\n",
              "</tr>\n",
              "<tr>\n",
              "  <th>Prob(Omnibus):</th> <td> 0.000</td> <th>  Jarque-Bera (JB):  </th> <td>  51.888</td>\n",
              "</tr>\n",
              "<tr>\n",
              "  <th>Skew:</th>          <td> 0.413</td> <th>  Prob(JB):          </th> <td>5.40e-12</td>\n",
              "</tr>\n",
              "<tr>\n",
              "  <th>Kurtosis:</th>      <td> 2.594</td> <th>  Cond. No.          </th> <td>2.00e+03</td>\n",
              "</tr>\n",
              "</table><br/><br/>Warnings:<br/>[1] Standard Errors assume that the covariance matrix of the errors is correctly specified.<br/>[2] The condition number is large,  2e+03. This might indicate that there are<br/>strong multicollinearity or other numerical problems."
            ],
            "text/plain": [
              "<class 'statsmodels.iolib.summary.Summary'>\n",
              "\"\"\"\n",
              "                            OLS Regression Results                            \n",
              "==============================================================================\n",
              "Dep. Variable:                    Age   R-squared:                       0.000\n",
              "Model:                            OLS   Adj. R-squared:                 -0.001\n",
              "Method:                 Least Squares   F-statistic:                    0.2194\n",
              "Date:                Sat, 27 Mar 2021   Prob (F-statistic):              0.640\n",
              "Time:                        03:03:20   Log-Likelihood:                -5337.1\n",
              "No. Observations:                1470   AIC:                         1.068e+04\n",
              "Df Residuals:                    1468   BIC:                         1.069e+04\n",
              "Df Model:                           1                                         \n",
              "Covariance Type:            nonrobust                                         \n",
              "==============================================================================\n",
              "                 coef    std err          t      P>|t|      [0.025      0.975]\n",
              "------------------------------------------------------------------------------\n",
              "Intercept     36.7014      0.531     69.095      0.000      35.659      37.743\n",
              "DailyRate      0.0003      0.001      0.468      0.640      -0.001       0.001\n",
              "==============================================================================\n",
              "Omnibus:                       54.646   Durbin-Watson:                   1.991\n",
              "Prob(Omnibus):                  0.000   Jarque-Bera (JB):               51.888\n",
              "Skew:                           0.413   Prob(JB):                     5.40e-12\n",
              "Kurtosis:                       2.594   Cond. No.                     2.00e+03\n",
              "==============================================================================\n",
              "\n",
              "Warnings:\n",
              "[1] Standard Errors assume that the covariance matrix of the errors is correctly specified.\n",
              "[2] The condition number is large,  2e+03. This might indicate that there are\n",
              "strong multicollinearity or other numerical problems.\n",
              "\"\"\""
            ]
          },
          "metadata": {
            "tags": []
          },
          "execution_count": 432
        }
      ]
    },
    {
      "cell_type": "markdown",
      "metadata": {
        "id": "uGd4Y19G_u9c"
      },
      "source": [
        "###**Conclusiones**\n",
        "---\n",
        "\n",
        "Identificar los principales fatores por los cuales los empleados se van de la empresa.\n",
        "Identificar si existen condiciones diferentes en cuanto al genero en la empresa.\n",
        "Generar un modelo que a partir de factores como la ganancia, o el tiempo que lleva trabajndo pueda desertar de la empresa.\n",
        "1.   Se identifica que los principales causantes de deserción son la ganancia mensual, el nivel trabajo y la cantidad de años que lleva trabajando en la empresa.\n",
        "2.   Se comprobo que aparte del salario no existe diferencia entre hombres y mujeres\n",
        "3. Se realizo un modelo lineal para determinar cuanto gana una persona depende su tiempo en la empresa \n",
        "4. a partir del salario y el tiempo que llevan trabajando se podria determinar si una persona se ira de la empresa \n",
        "5. Las personas que renuencian generalmente son las personas con mayor edad. \n",
        "\n"
      ]
    }
  ]
}